{
 "cells": [
  {
   "cell_type": "markdown",
   "metadata": {},
   "source": [
    "## Unit operations to access the raw data and label file"
   ]
  },
  {
   "cell_type": "markdown",
   "metadata": {},
   "source": [
    "This notebooks contains test cases and/or demos for functions and modules in the seizurecast package"
   ]
  },
  {
   "cell_type": "code",
   "execution_count": 8,
   "metadata": {},
   "outputs": [],
   "source": [
    "from file_io import * \n",
    "import os\n",
    "import numpy as np\n",
    "import pandas as pd\n",
    "import mne\n",
    "import matplotlib.pyplot as plt"
   ]
  },
  {
   "cell_type": "code",
   "execution_count": 10,
   "metadata": {},
   "outputs": [],
   "source": [
    "# relabeling config\n",
    "LEN_PRE = 15\n",
    "LEN_POS = 60\n",
    "SEC_GAP = 0"
   ]
  },
  {
   "cell_type": "code",
   "execution_count": 13,
   "metadata": {},
   "outputs": [
    {
     "data": {
      "text/plain": [
       "((22,), (22, 73600), (22,))"
      ]
     },
     "execution_count": 13,
     "metadata": {},
     "output_type": "execute_result"
    }
   ],
   "source": [
    "train_path = '../tusz_1_5_2/edf/train'\n",
    "tcp_type = '01_tcp_ar'\n",
    "patient_group = '004'\n",
    "patient = '00000492'\n",
    "session = 's003_2003_07_18'\n",
    "token = '00000492_s003_t001'\n",
    "token_path = os.path.join(train_path, tcp_type, patient_group, patient, session, token)\n",
    "\n",
    "# Read 1 token file\n",
    "fsamp_mont, sig_mont, labels_mont = read_1_token(token_path)\n",
    "np.shape(fsamp_mont), np.shape(sig_mont), np.shape(labels_mont)"
   ]
  },
  {
   "cell_type": "code",
   "execution_count": 14,
   "metadata": {},
   "outputs": [
    {
     "data": {
      "text/plain": [
       "(22, 73600)"
      ]
     },
     "execution_count": 14,
     "metadata": {},
     "output_type": "execute_result"
    }
   ],
   "source": [
    "# Sort channels if montages are different\n",
    "sig_mont = sort_channel(sig_mont, labels_mont, STD_CHANNEL_01_AR)\n",
    "np.shape(sig_mont)"
   ]
  },
  {
   "cell_type": "code",
   "execution_count": 15,
   "metadata": {},
   "outputs": [
    {
     "data": {
      "text/plain": [
       "((3, 2), (3,))"
      ]
     },
     "execution_count": 15,
     "metadata": {},
     "output_type": "execute_result"
    }
   ],
   "source": [
    "# Intervals that have been annotated\n",
    "# 00000492_s003_t001 0.0000 33.1425 bckg 1.0000\n",
    "# 00000492_s003_t001 33.1425 53.0000 seiz 1.0000\n",
    "# 00000492_s003_t001 53.0000 184.0000 bckg 1.0000\n",
    "intvs, labls = load_tse_bi(token_path)\n",
    "np.shape(intvs), np.shape(labls)"
   ]
  },
  {
   "cell_type": "code",
   "execution_count": 16,
   "metadata": {},
   "outputs": [
    {
     "data": {
      "text/plain": [
       "((5, 2), (5,))"
      ]
     },
     "execution_count": 16,
     "metadata": {},
     "output_type": "execute_result"
    }
   ],
   "source": [
    "# Relabel intervals by assigning pre-seizure stage\n",
    "# pre-seizure stage is defined as SEC_GAP seconds preceding the seizure\n",
    "intvs, labls = relabel_tse_bi(intvs=intvs, labels=labls, len_pre=LEN_PRE, len_post=LEN_POS, sec_gap=SEC_GAP)\n",
    "np.shape(intvs), np.shape(labls)"
   ]
  },
  {
   "cell_type": "markdown",
   "metadata": {},
   "source": [
    "## Segment data into 1 second per piece\n",
    "\n",
    "1. Chop seizure\n",
    "Comparing the sampling rate, time and annotated time, we extract some chunks of seizure signal.\n",
    "2. Chop pre-ictal \n",
    "Chop from 10 to 20 seconds preceding seizures.\n",
    "3. Chop background\n",
    "10 minutes preceding seizures and 10 minutes after seizures. "
   ]
  },
  {
   "cell_type": "code",
   "execution_count": 19,
   "metadata": {},
   "outputs": [
    {
     "name": "stdout",
     "output_type": "stream",
     "text": [
      "before:\t (22, 73600)\n",
      "after:\t (181, 22, 400)\n"
     ]
    }
   ],
   "source": [
    "# Segment data into 1 second per piece\n",
    "fsamp = int(np.mean(fsamp_mont))\n",
    "dataset, labels = signal_to_dataset(raw=sig_mont, fsamp=fsamp, intvs=intvs, labels=labls)\n",
    "print('before:\\t', np.shape(sig_mont))\n",
    "print('after:\\t', np.shape(dataset))\n",
    "assert np.shape(dataset)[0] == np.shape(labels)[0]"
   ]
  },
  {
   "cell_type": "markdown",
   "metadata": {},
   "source": [
    "# Gotcha: montage issue\n",
    "For each edf file, we cannot assume the first channel is always the same physical location of electrode. \n",
    "1. Set some standard label and order.\n",
    "Ideally I can use data.frame, however I will first see what format others used. The order can be arbitrary, but I will see what other used first.\n",
    "2. Read edf file and its montage, \n",
    "This can be done using the aforementioned functions from pystream\n",
    "3. Convert edf reading to standard format.\n",
    "This can be done using numpy and panda"
   ]
  }
 ],
 "metadata": {
  "kernelspec": {
   "display_name": "Python [conda env:insight] *",
   "language": "python",
   "name": "conda-env-insight-py"
  },
  "language_info": {
   "codemirror_mode": {
    "name": "ipython",
    "version": 3
   },
   "file_extension": ".py",
   "mimetype": "text/x-python",
   "name": "python",
   "nbconvert_exporter": "python",
   "pygments_lexer": "ipython3",
   "version": "3.7.7"
  }
 },
 "nbformat": 4,
 "nbformat_minor": 4
}
