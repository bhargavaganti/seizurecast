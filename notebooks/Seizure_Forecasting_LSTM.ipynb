{
 "cells": [
  {
   "cell_type": "code",
   "execution_count": 73,
   "metadata": {
    "colab": {},
    "colab_type": "code",
    "id": "cPaIAjhNVUkR"
   },
   "outputs": [],
   "source": [
    "# !git clone https://github.com/ylin00/seizurecast\n",
    "import sys\n",
    "import numpy as np\n",
    "import pandas as pd\n",
    "# sys.path.append('~/github/ids/seizurecast/seizurecast/')\n",
    "# sys.path.remove('/Users/yanxlin/github/ids')\n",
    "# sys.path.pop()\n",
    "# sys.path.append('..')"
   ]
  },
  {
   "cell_type": "code",
   "execution_count": 74,
   "metadata": {
    "colab": {},
    "colab_type": "code",
    "id": "b7zHN5O4HyMg"
   },
   "outputs": [],
   "source": [
    "import pandas as pd\n",
    "from seizurecast.features.to_sql import SQLengine\n",
    "from seizurecast.models.par import LABEL_BKG, LABEL_PRE, LABEL_SEZ\n",
    "\n",
    "def setlabel(pres, post, len_pos=300, len_pre=300, sec_gap=600):\n",
    "  \"\"\"convert pres and post timestamps to background and preseizure labels\"\"\"\n",
    "  y = []\n",
    "  for _, (pres, post) in enumerate(zip(pres, post)):\n",
    "    if post > len_pos and pres > sec_gap + len_pre:\n",
    "      y.append(LABEL_BKG)\n",
    "    elif post > len_pos and pres > sec_gap:\n",
    "      y.append(LABEL_PRE)\n",
    "    else:\n",
    "      y.append(LABEL_SEZ)\n",
    "  return y"
   ]
  },
  {
   "cell_type": "markdown",
   "metadata": {
    "colab_type": "text",
    "id": "vx4brGd_YExI"
   },
   "source": [
    "# Explore the table used in this notebook"
   ]
  },
  {
   "cell_type": "markdown",
   "metadata": {
    "colab_type": "text",
    "id": "DmlPfHR3aEUQ"
   },
   "source": [
    "## training set of 256 Hz "
   ]
  },
  {
   "cell_type": "code",
   "execution_count": 90,
   "metadata": {
    "colab": {},
    "colab_type": "code",
    "id": "ghbShKUTVSwV"
   },
   "outputs": [],
   "source": [
    "dataset = pd.read_sql('select * from train256hz_01 limit 100000', SQLengine)"
   ]
  },
  {
   "cell_type": "code",
   "execution_count": 91,
   "metadata": {
    "colab": {
     "base_uri": "https://localhost:8080/",
     "height": 338
    },
    "colab_type": "code",
    "id": "ECQUVvUBLDhl",
    "outputId": "18bdf5bf-6dca-4498-954e-c056a32caeae"
   },
   "outputs": [
    {
     "name": "stdout",
     "output_type": "stream",
     "text": [
      "label\n",
      "bckg    84825\n",
      "pres      623\n",
      "seiz    14552\n",
      "dtype: int64\n"
     ]
    },
    {
     "data": {
      "text/html": [
       "<div>\n",
       "<style scoped>\n",
       "    .dataframe tbody tr th:only-of-type {\n",
       "        vertical-align: middle;\n",
       "    }\n",
       "\n",
       "    .dataframe tbody tr th {\n",
       "        vertical-align: top;\n",
       "    }\n",
       "\n",
       "    .dataframe thead th {\n",
       "        text-align: right;\n",
       "    }\n",
       "</style>\n",
       "<table border=\"1\" class=\"dataframe\">\n",
       "  <thead>\n",
       "    <tr style=\"text-align: right;\">\n",
       "      <th></th>\n",
       "      <th>index</th>\n",
       "      <th>sp0</th>\n",
       "      <th>sp1</th>\n",
       "      <th>sp2</th>\n",
       "      <th>sp3</th>\n",
       "      <th>sp4</th>\n",
       "      <th>sp5</th>\n",
       "      <th>sp6</th>\n",
       "      <th>sp7</th>\n",
       "      <th>sp8</th>\n",
       "      <th>...</th>\n",
       "      <th>sp250</th>\n",
       "      <th>sp251</th>\n",
       "      <th>sp252</th>\n",
       "      <th>sp253</th>\n",
       "      <th>sp254</th>\n",
       "      <th>sp255</th>\n",
       "      <th>post</th>\n",
       "      <th>pres</th>\n",
       "      <th>token</th>\n",
       "      <th>label</th>\n",
       "    </tr>\n",
       "  </thead>\n",
       "  <tbody>\n",
       "    <tr>\n",
       "      <th>0</th>\n",
       "      <td>413</td>\n",
       "      <td>-10.871218</td>\n",
       "      <td>-12.623267</td>\n",
       "      <td>-14.401151</td>\n",
       "      <td>-16.163855</td>\n",
       "      <td>-17.873517</td>\n",
       "      <td>-19.496056</td>\n",
       "      <td>-21.001471</td>\n",
       "      <td>-22.363931</td>\n",
       "      <td>-23.561598</td>\n",
       "      <td>...</td>\n",
       "      <td>-2.776354</td>\n",
       "      <td>-2.354457</td>\n",
       "      <td>-1.997178</td>\n",
       "      <td>-1.715267</td>\n",
       "      <td>-1.515321</td>\n",
       "      <td>-1.399782</td>\n",
       "      <td>99999.0</td>\n",
       "      <td>99999</td>\n",
       "      <td>00010480_s013_t013</td>\n",
       "      <td>bckg</td>\n",
       "    </tr>\n",
       "    <tr>\n",
       "      <th>1</th>\n",
       "      <td>414</td>\n",
       "      <td>-1.367052</td>\n",
       "      <td>-1.411769</td>\n",
       "      <td>-1.525414</td>\n",
       "      <td>-1.697131</td>\n",
       "      <td>-1.914591</td>\n",
       "      <td>-2.164825</td>\n",
       "      <td>-2.435088</td>\n",
       "      <td>-2.713708</td>\n",
       "      <td>-2.990681</td>\n",
       "      <td>...</td>\n",
       "      <td>-4.577897</td>\n",
       "      <td>-4.756531</td>\n",
       "      <td>-4.750707</td>\n",
       "      <td>-4.574689</td>\n",
       "      <td>-4.252237</td>\n",
       "      <td>-3.814659</td>\n",
       "      <td>99999.0</td>\n",
       "      <td>99999</td>\n",
       "      <td>00010480_s013_t013</td>\n",
       "      <td>bckg</td>\n",
       "    </tr>\n",
       "    <tr>\n",
       "      <th>2</th>\n",
       "      <td>415</td>\n",
       "      <td>-3.298212</td>\n",
       "      <td>-2.741254</td>\n",
       "      <td>-2.181474</td>\n",
       "      <td>-1.653326</td>\n",
       "      <td>-1.185699</td>\n",
       "      <td>-0.799956</td>\n",
       "      <td>-0.508660</td>\n",
       "      <td>-0.315120</td>\n",
       "      <td>-0.213599</td>\n",
       "      <td>...</td>\n",
       "      <td>1.296760</td>\n",
       "      <td>0.466979</td>\n",
       "      <td>-0.464391</td>\n",
       "      <td>-1.461698</td>\n",
       "      <td>-2.482462</td>\n",
       "      <td>-3.479945</td>\n",
       "      <td>99999.0</td>\n",
       "      <td>99999</td>\n",
       "      <td>00010480_s013_t013</td>\n",
       "      <td>bckg</td>\n",
       "    </tr>\n",
       "    <tr>\n",
       "      <th>3</th>\n",
       "      <td>416</td>\n",
       "      <td>-4.405966</td>\n",
       "      <td>-5.213916</td>\n",
       "      <td>-5.861904</td>\n",
       "      <td>-6.315718</td>\n",
       "      <td>-6.551238</td>\n",
       "      <td>-6.556087</td>\n",
       "      <td>-6.330548</td>\n",
       "      <td>-5.887771</td>\n",
       "      <td>-5.253085</td>\n",
       "      <td>...</td>\n",
       "      <td>-5.407775</td>\n",
       "      <td>-5.748930</td>\n",
       "      <td>-5.756754</td>\n",
       "      <td>-5.428141</td>\n",
       "      <td>-4.776565</td>\n",
       "      <td>-3.830390</td>\n",
       "      <td>99999.0</td>\n",
       "      <td>99999</td>\n",
       "      <td>00010480_s013_t013</td>\n",
       "      <td>bckg</td>\n",
       "    </tr>\n",
       "    <tr>\n",
       "      <th>4</th>\n",
       "      <td>417</td>\n",
       "      <td>-2.630324</td>\n",
       "      <td>-1.226355</td>\n",
       "      <td>0.325542</td>\n",
       "      <td>1.966814</td>\n",
       "      <td>3.639703</td>\n",
       "      <td>5.290374</td>\n",
       "      <td>6.871485</td>\n",
       "      <td>8.344040</td>\n",
       "      <td>9.678628</td>\n",
       "      <td>...</td>\n",
       "      <td>-4.521566</td>\n",
       "      <td>-4.875810</td>\n",
       "      <td>-5.146501</td>\n",
       "      <td>-5.315189</td>\n",
       "      <td>-5.367752</td>\n",
       "      <td>-5.295196</td>\n",
       "      <td>99999.0</td>\n",
       "      <td>99999</td>\n",
       "      <td>00010480_s013_t013</td>\n",
       "      <td>bckg</td>\n",
       "    </tr>\n",
       "  </tbody>\n",
       "</table>\n",
       "<p>5 rows × 261 columns</p>\n",
       "</div>"
      ],
      "text/plain": [
       "   index        sp0        sp1        sp2        sp3        sp4        sp5  \\\n",
       "0    413 -10.871218 -12.623267 -14.401151 -16.163855 -17.873517 -19.496056   \n",
       "1    414  -1.367052  -1.411769  -1.525414  -1.697131  -1.914591  -2.164825   \n",
       "2    415  -3.298212  -2.741254  -2.181474  -1.653326  -1.185699  -0.799956   \n",
       "3    416  -4.405966  -5.213916  -5.861904  -6.315718  -6.551238  -6.556087   \n",
       "4    417  -2.630324  -1.226355   0.325542   1.966814   3.639703   5.290374   \n",
       "\n",
       "         sp6        sp7        sp8  ...     sp250     sp251     sp252  \\\n",
       "0 -21.001471 -22.363931 -23.561598  ... -2.776354 -2.354457 -1.997178   \n",
       "1  -2.435088  -2.713708  -2.990681  ... -4.577897 -4.756531 -4.750707   \n",
       "2  -0.508660  -0.315120  -0.213599  ...  1.296760  0.466979 -0.464391   \n",
       "3  -6.330548  -5.887771  -5.253085  ... -5.407775 -5.748930 -5.756754   \n",
       "4   6.871485   8.344040   9.678628  ... -4.521566 -4.875810 -5.146501   \n",
       "\n",
       "      sp253     sp254     sp255     post   pres               token  label  \n",
       "0 -1.715267 -1.515321 -1.399782  99999.0  99999  00010480_s013_t013   bckg  \n",
       "1 -4.574689 -4.252237 -3.814659  99999.0  99999  00010480_s013_t013   bckg  \n",
       "2 -1.461698 -2.482462 -3.479945  99999.0  99999  00010480_s013_t013   bckg  \n",
       "3 -5.428141 -4.776565 -3.830390  99999.0  99999  00010480_s013_t013   bckg  \n",
       "4 -5.315189 -5.367752 -5.295196  99999.0  99999  00010480_s013_t013   bckg  \n",
       "\n",
       "[5 rows x 261 columns]"
      ]
     },
     "execution_count": 91,
     "metadata": {
      "tags": []
     },
     "output_type": "execute_result"
    }
   ],
   "source": [
    "dataset = dataset\\\n",
    ".assign(label = lambda x: setlabel(x.pres, x.post, len_pos=300, len_pre=300, sec_gap=600))\n",
    "print(dataset.groupby('label').size())\n",
    "dataset.head()"
   ]
  },
  {
   "cell_type": "markdown",
   "metadata": {
    "colab_type": "text",
    "id": "iEB_FOsLaP9v"
   },
   "source": [
    "## Patient directory"
   ]
  },
  {
   "cell_type": "code",
   "execution_count": null,
   "metadata": {
    "colab": {
     "base_uri": "https://localhost:8080/",
     "height": 224
    },
    "colab_type": "code",
    "id": "zqAu8tFtYPlu",
    "outputId": "e876210a-95cb-420c-b72b-0c5444d48d36"
   },
   "outputs": [
    {
     "data": {
      "text/html": [
       "<div>\n",
       "<style scoped>\n",
       "    .dataframe tbody tr th:only-of-type {\n",
       "        vertical-align: middle;\n",
       "    }\n",
       "\n",
       "    .dataframe tbody tr th {\n",
       "        vertical-align: top;\n",
       "    }\n",
       "\n",
       "    .dataframe thead th {\n",
       "        text-align: right;\n",
       "    }\n",
       "</style>\n",
       "<table border=\"1\" class=\"dataframe\">\n",
       "  <thead>\n",
       "    <tr style=\"text-align: right;\">\n",
       "      <th></th>\n",
       "      <th>index</th>\n",
       "      <th>path0</th>\n",
       "      <th>path1</th>\n",
       "      <th>path2</th>\n",
       "      <th>path3</th>\n",
       "      <th>path4</th>\n",
       "      <th>path5</th>\n",
       "      <th>path6</th>\n",
       "      <th>train_test</th>\n",
       "      <th>tcp_type</th>\n",
       "      <th>patient_group</th>\n",
       "      <th>patient</th>\n",
       "      <th>session</th>\n",
       "      <th>token</th>\n",
       "      <th>token_path</th>\n",
       "    </tr>\n",
       "  </thead>\n",
       "  <tbody>\n",
       "    <tr>\n",
       "      <th>0</th>\n",
       "      <td>0</td>\n",
       "      <td></td>\n",
       "      <td>Users</td>\n",
       "      <td>yanxlin</td>\n",
       "      <td>github</td>\n",
       "      <td>ids</td>\n",
       "      <td>tusz_1_5_2</td>\n",
       "      <td>edf</td>\n",
       "      <td>train</td>\n",
       "      <td>03_tcp_ar_a</td>\n",
       "      <td>104</td>\n",
       "      <td>00010418</td>\n",
       "      <td>s018_2014_06_01</td>\n",
       "      <td>00010418_s018_t008</td>\n",
       "      <td>/Users/yanxlin/github/ids/tusz_1_5_2/edf/train...</td>\n",
       "    </tr>\n",
       "    <tr>\n",
       "      <th>1</th>\n",
       "      <td>1</td>\n",
       "      <td></td>\n",
       "      <td>Users</td>\n",
       "      <td>yanxlin</td>\n",
       "      <td>github</td>\n",
       "      <td>ids</td>\n",
       "      <td>tusz_1_5_2</td>\n",
       "      <td>edf</td>\n",
       "      <td>train</td>\n",
       "      <td>03_tcp_ar_a</td>\n",
       "      <td>104</td>\n",
       "      <td>00010418</td>\n",
       "      <td>s018_2014_06_01</td>\n",
       "      <td>00010418_s018_t009</td>\n",
       "      <td>/Users/yanxlin/github/ids/tusz_1_5_2/edf/train...</td>\n",
       "    </tr>\n",
       "    <tr>\n",
       "      <th>2</th>\n",
       "      <td>2</td>\n",
       "      <td></td>\n",
       "      <td>Users</td>\n",
       "      <td>yanxlin</td>\n",
       "      <td>github</td>\n",
       "      <td>ids</td>\n",
       "      <td>tusz_1_5_2</td>\n",
       "      <td>edf</td>\n",
       "      <td>train</td>\n",
       "      <td>03_tcp_ar_a</td>\n",
       "      <td>104</td>\n",
       "      <td>00010418</td>\n",
       "      <td>s018_2014_06_01</td>\n",
       "      <td>00010418_s018_t001</td>\n",
       "      <td>/Users/yanxlin/github/ids/tusz_1_5_2/edf/train...</td>\n",
       "    </tr>\n",
       "    <tr>\n",
       "      <th>3</th>\n",
       "      <td>3</td>\n",
       "      <td></td>\n",
       "      <td>Users</td>\n",
       "      <td>yanxlin</td>\n",
       "      <td>github</td>\n",
       "      <td>ids</td>\n",
       "      <td>tusz_1_5_2</td>\n",
       "      <td>edf</td>\n",
       "      <td>train</td>\n",
       "      <td>03_tcp_ar_a</td>\n",
       "      <td>104</td>\n",
       "      <td>00010418</td>\n",
       "      <td>s018_2014_06_01</td>\n",
       "      <td>00010418_s018_t000</td>\n",
       "      <td>/Users/yanxlin/github/ids/tusz_1_5_2/edf/train...</td>\n",
       "    </tr>\n",
       "    <tr>\n",
       "      <th>4</th>\n",
       "      <td>4</td>\n",
       "      <td></td>\n",
       "      <td>Users</td>\n",
       "      <td>yanxlin</td>\n",
       "      <td>github</td>\n",
       "      <td>ids</td>\n",
       "      <td>tusz_1_5_2</td>\n",
       "      <td>edf</td>\n",
       "      <td>train</td>\n",
       "      <td>03_tcp_ar_a</td>\n",
       "      <td>104</td>\n",
       "      <td>00010418</td>\n",
       "      <td>s018_2014_06_01</td>\n",
       "      <td>00010418_s018_t002</td>\n",
       "      <td>/Users/yanxlin/github/ids/tusz_1_5_2/edf/train...</td>\n",
       "    </tr>\n",
       "  </tbody>\n",
       "</table>\n",
       "</div>"
      ],
      "text/plain": [
       "   index path0  path1    path2   path3 path4       path5 path6 train_test  \\\n",
       "0      0        Users  yanxlin  github   ids  tusz_1_5_2   edf      train   \n",
       "1      1        Users  yanxlin  github   ids  tusz_1_5_2   edf      train   \n",
       "2      2        Users  yanxlin  github   ids  tusz_1_5_2   edf      train   \n",
       "3      3        Users  yanxlin  github   ids  tusz_1_5_2   edf      train   \n",
       "4      4        Users  yanxlin  github   ids  tusz_1_5_2   edf      train   \n",
       "\n",
       "      tcp_type patient_group   patient          session               token  \\\n",
       "0  03_tcp_ar_a           104  00010418  s018_2014_06_01  00010418_s018_t008   \n",
       "1  03_tcp_ar_a           104  00010418  s018_2014_06_01  00010418_s018_t009   \n",
       "2  03_tcp_ar_a           104  00010418  s018_2014_06_01  00010418_s018_t001   \n",
       "3  03_tcp_ar_a           104  00010418  s018_2014_06_01  00010418_s018_t000   \n",
       "4  03_tcp_ar_a           104  00010418  s018_2014_06_01  00010418_s018_t002   \n",
       "\n",
       "                                          token_path  \n",
       "0  /Users/yanxlin/github/ids/tusz_1_5_2/edf/train...  \n",
       "1  /Users/yanxlin/github/ids/tusz_1_5_2/edf/train...  \n",
       "2  /Users/yanxlin/github/ids/tusz_1_5_2/edf/train...  \n",
       "3  /Users/yanxlin/github/ids/tusz_1_5_2/edf/train...  \n",
       "4  /Users/yanxlin/github/ids/tusz_1_5_2/edf/train...  "
      ]
     },
     "execution_count": 42,
     "metadata": {
      "tags": []
     },
     "output_type": "execute_result"
    }
   ],
   "source": [
    "pd.read_sql(\"select * from directory limit 10\", SQLengine).head()"
   ]
  },
  {
   "cell_type": "code",
   "execution_count": null,
   "metadata": {
    "colab": {},
    "colab_type": "code",
    "id": "fr_IN9yhaaPR"
   },
   "outputs": [],
   "source": []
  },
  {
   "cell_type": "markdown",
   "metadata": {
    "colab_type": "text",
    "id": "nn3gGtaFaa_N"
   },
   "source": [
    "## Labels of seizure events from experts"
   ]
  },
  {
   "cell_type": "code",
   "execution_count": 122,
   "metadata": {
    "colab": {
     "base_uri": "https://localhost:8080/",
     "height": 34
    },
    "colab_type": "code",
    "id": "14PIjjXJVjp-",
    "outputId": "c77086f1-3cc4-40af-d0d4-64d80dea5c8c"
   },
   "outputs": [
    {
     "data": {
      "text/plain": [
       "[None, None]"
      ]
     },
     "execution_count": 122,
     "metadata": {
      "tags": []
     },
     "output_type": "execute_result"
    }
   ],
   "source": [
    "[pd.read_sql(f\"\"\"\n",
    "select * from seiz_bckg \n",
    "where label='{lbl}' and train_test='train'\n",
    "\"\"\", SQLengine).to_sql(f'tmp_{lbl}_train', SQLengine, if_exists='replace') for lbl in ['bckg', 'seiz']]\n",
    "print(f\"\"\"Number of token containing seizures = {pd.read_sql(\"select count(*) from tmp_seiz_train\", SQLengine).to_numpy()[0,0]}\"\"\")\n",
    "print(f\"\"\"Else = {pd.read_sql(\"select count(*) from tmp_bckg_train\", SQLengine).to_numpy()[0,0]}\"\"\")\n",
    "pd.read_sql(\"select * from tmp_seiz_train limit 3\", SQLengine).head()"
   ]
  },
  {
   "cell_type": "code",
   "execution_count": 130,
   "metadata": {
    "colab": {
     "base_uri": "https://localhost:8080/",
     "height": 142
    },
    "colab_type": "code",
    "id": "Gz2RR8nWatfF",
    "outputId": "8b551a54-06f8-49c3-cce5-1e2c465421ff"
   },
   "outputs": [
    {
     "data": {
      "text/html": [
       "<div>\n",
       "<style scoped>\n",
       "    .dataframe tbody tr th:only-of-type {\n",
       "        vertical-align: middle;\n",
       "    }\n",
       "\n",
       "    .dataframe tbody tr th {\n",
       "        vertical-align: top;\n",
       "    }\n",
       "\n",
       "    .dataframe thead th {\n",
       "        text-align: right;\n",
       "    }\n",
       "</style>\n",
       "<table border=\"1\" class=\"dataframe\">\n",
       "  <thead>\n",
       "    <tr style=\"text-align: right;\">\n",
       "      <th></th>\n",
       "      <th>level_0</th>\n",
       "      <th>index</th>\n",
       "      <th>token</th>\n",
       "      <th>time_start</th>\n",
       "      <th>time_end</th>\n",
       "      <th>label</th>\n",
       "      <th>prob</th>\n",
       "      <th>train_test</th>\n",
       "    </tr>\n",
       "  </thead>\n",
       "  <tbody>\n",
       "    <tr>\n",
       "      <th>0</th>\n",
       "      <td>0</td>\n",
       "      <td>36</td>\n",
       "      <td>00000492_s003_t000</td>\n",
       "      <td>6.2825</td>\n",
       "      <td>35.8875</td>\n",
       "      <td>seiz</td>\n",
       "      <td>1.0</td>\n",
       "      <td>train</td>\n",
       "    </tr>\n",
       "    <tr>\n",
       "      <th>1</th>\n",
       "      <td>1</td>\n",
       "      <td>39</td>\n",
       "      <td>00000492_s003_t001</td>\n",
       "      <td>33.1425</td>\n",
       "      <td>53.0000</td>\n",
       "      <td>seiz</td>\n",
       "      <td>1.0</td>\n",
       "      <td>train</td>\n",
       "    </tr>\n",
       "    <tr>\n",
       "      <th>2</th>\n",
       "      <td>2</td>\n",
       "      <td>42</td>\n",
       "      <td>00000492_s003_t002</td>\n",
       "      <td>9.7925</td>\n",
       "      <td>29.1250</td>\n",
       "      <td>seiz</td>\n",
       "      <td>1.0</td>\n",
       "      <td>train</td>\n",
       "    </tr>\n",
       "  </tbody>\n",
       "</table>\n",
       "</div>"
      ],
      "text/plain": [
       "   level_0  index               token  time_start  time_end label  prob  \\\n",
       "0        0     36  00000492_s003_t000      6.2825   35.8875  seiz   1.0   \n",
       "1        1     39  00000492_s003_t001     33.1425   53.0000  seiz   1.0   \n",
       "2        2     42  00000492_s003_t002      9.7925   29.1250  seiz   1.0   \n",
       "\n",
       "  train_test  \n",
       "0      train  \n",
       "1      train  \n",
       "2      train  "
      ]
     },
     "execution_count": 130,
     "metadata": {
      "tags": []
     },
     "output_type": "execute_result"
    }
   ],
   "source": []
  },
  {
   "cell_type": "markdown",
   "metadata": {
    "colab_type": "text",
    "id": "5_UbSdqZY4V1"
   },
   "source": [
    "# Split Train Test patients"
   ]
  },
  {
   "cell_type": "code",
   "execution_count": 191,
   "metadata": {
    "colab": {
     "base_uri": "https://localhost:8080/",
     "height": 34
    },
    "colab_type": "code",
    "id": "JK3fKdliPBis",
    "outputId": "a685808d-a5bd-4bc7-b742-ac255ca29fcc"
   },
   "outputs": [
    {
     "name": "stdout",
     "output_type": "stream",
     "text": [
      "Patient ID: ['00000577' '00006103' '00007936'] ..., Train:(246,), Test:(62,)\n"
     ]
    }
   ],
   "source": [
    "# randomly sample 80/20 on patient level\n",
    "from sklearn.model_selection import train_test_split\n",
    "patient_id = np.unique(pd.read_sql(\"select * from directory where train_test='train' and tcp_type='01_tcp_ar'\", SQLengine).loc[:,'patient'])\n",
    "patient_train, patient_test = train_test_split(patient_id, test_size=0.2, random_state=0)\n",
    "\n",
    "print(f\"Patient ID: {patient_train[0:3]} ..., Train:{patient_train.shape}, Test:{patient_test.shape}\")"
   ]
  },
  {
   "cell_type": "code",
   "execution_count": 201,
   "metadata": {
    "colab": {},
    "colab_type": "code",
    "id": "0VwR7aTv9BoZ"
   },
   "outputs": [],
   "source": [
    "# Create table patient_group, storing patient ID and their train/test association\n",
    "pd.concat(\n",
    "    [pd.DataFrame({'patient':patient_train}).assign(train_test='train'),\n",
    "    pd.DataFrame({'patient':patient_test}).assign(train_test='test')]\n",
    "          ).to_sql('patient_group', SQLengine, if_exists='replace')"
   ]
  },
  {
   "cell_type": "code",
   "execution_count": 212,
   "metadata": {
    "colab": {},
    "colab_type": "code",
    "id": "mnIRmeSU-S_G"
   },
   "outputs": [],
   "source": [
    "# create table tmp_token_group storing Token and their train/test group\n",
    "pd.read_sql(\"\"\"\n",
    "select A.train_test, B.token\n",
    "from patient_group A\n",
    "inner join directory B on A.patient=B.patient;\n",
    "\"\"\",SQLengine).to_sql('tmp_token_group', SQLengine, if_exists='replace')"
   ]
  },
  {
   "cell_type": "code",
   "execution_count": 231,
   "metadata": {
    "colab": {
     "base_uri": "https://localhost:8080/",
     "height": 153
    },
    "colab_type": "code",
    "id": "bJVRATpPBRSC",
    "outputId": "520883a4-3c6e-487c-d744-c83d9502e036"
   },
   "outputs": [
    {
     "data": {
      "text/plain": [
       "{'test': Int64Index([   0,    1,    2,    3,    4,    5,    6,    7,    8,    9,\n",
       "             ...\n",
       "             3533, 3534, 3535, 3536, 3537, 3609, 3610, 3611, 3612, 3613],\n",
       "            dtype='int64', length=712),\n",
       " 'train': Int64Index([  34,   35,   36,   37,   38,   39,   40,   41,   42,   43,\n",
       "             ...\n",
       "             3676, 3677, 3678, 3679, 3680, 3681, 3682, 3683, 3684, 3685],\n",
       "            dtype='int64', length=2974)}"
      ]
     },
     "execution_count": 231,
     "metadata": {
      "tags": []
     },
     "output_type": "execute_result"
    }
   ],
   "source": [
    "pd.read_sql(\"select * from tmp_token_group\", SQLengine).groupby('train_test').groups"
   ]
  },
  {
   "cell_type": "code",
   "execution_count": 493,
   "metadata": {
    "colab": {},
    "colab_type": "code",
    "id": "TFhH8fJU78nK"
   },
   "outputs": [],
   "source": [
    "# select train dataset\n",
    "feature_table = 'train256hz_01'\n",
    "dataset=[]\n",
    "for i, group in enumerate(['train', 'test']):\n",
    "  dataset.append(pd.read_sql(f\"\"\"\n",
    "  (\n",
    "    select *\n",
    "    from {feature_table} A\n",
    "    where A.token in (\n",
    "      select B.token from tmp_token_group B where B.train_test='{group}'\n",
    "    ) and (\n",
    "      A.pres<{300+600}\n",
    "      and 600<A.pres\n",
    "      and A.post>300\n",
    "    ) \n",
    "    limit 10000\n",
    "  )\n",
    "\n",
    "  union\n",
    "\n",
    "  (\n",
    "    select *\n",
    "    from {feature_table} A\n",
    "    where A.token in (\n",
    "      select B.token from tmp_token_group B where B.train_test='{group}' \n",
    "    ) and (\n",
    "      900<A.pres\n",
    "      and A.post>300\n",
    "    )\n",
    "    limit 10000\n",
    "  );\n",
    "  \"\"\", SQLengine))"
   ]
  },
  {
   "cell_type": "code",
   "execution_count": 494,
   "metadata": {
    "colab": {},
    "colab_type": "code",
    "id": "vsER43hYUQYH"
   },
   "outputs": [],
   "source": [
    "\n",
    "# dataset[1]\\\n",
    "# .assign(label = lambda x: setlabel(x.pres, x.post, len_pos=300, len_pre=300, sec_gap=600))\\\n",
    "# .groupby(['label'])\\\n",
    "# .groups"
   ]
  },
  {
   "cell_type": "markdown",
   "metadata": {
    "colab_type": "text",
    "id": "jzcOwmchxeq0"
   },
   "source": [
    "# Training"
   ]
  },
  {
   "cell_type": "markdown",
   "metadata": {
    "colab_type": "text",
    "id": "zxOhdwMOwmIb"
   },
   "source": [
    "## Data Prep"
   ]
  },
  {
   "cell_type": "code",
   "execution_count": 495,
   "metadata": {
    "colab": {},
    "colab_type": "code",
    "id": "iXo5nwW2en13"
   },
   "outputs": [],
   "source": [
    "# Convert dataframe to numpy array\n",
    "train_X = dataset[0].iloc[:,1:257].to_numpy()[:,:,np.newaxis]  # new feature axis\n",
    "train_y = dataset[0].iloc[:,257:]\\\n",
    ".assign(label = lambda x: setlabel(x.pres, x.post, len_pos=300, len_pre=300, sec_gap=600))\\\n",
    ".iloc[:,-1:]\\\n",
    ".to_numpy()\n",
    "test_X = dataset[1].iloc[:,1:257].to_numpy()[:,:,np.newaxis]  # new feature axis\n",
    "test_y = dataset[1].iloc[:,257:]\\\n",
    ".assign(label = lambda x: setlabel(x.pres, x.post, len_pos=300, len_pre=300, sec_gap=600))\\\n",
    ".iloc[:,-1:]\\\n",
    ".to_numpy()\n",
    "\n",
    "# binarize\n",
    "test_y = np.array([int(y==LABEL_PRE) for y in test_y])[:,np.newaxis]\n",
    "train_y = np.array([int(y==LABEL_PRE) for y in train_y])[:,np.newaxis]"
   ]
  },
  {
   "cell_type": "code",
   "execution_count": 496,
   "metadata": {
    "colab": {
     "base_uri": "https://localhost:8080/",
     "height": 119
    },
    "colab_type": "code",
    "id": "wCcnuXQRkaeT",
    "outputId": "60f2b603-e877-41d6-db2a-092eaeef17d1"
   },
   "outputs": [
    {
     "name": "stdout",
     "output_type": "stream",
     "text": [
      "data contain a lot of spikes\n"
     ]
    },
    {
     "data": {
      "text/plain": [
       "(array([     6,     25,    153,   1393,   5267, 239640,   5736,   2940,\n",
       "           529,     55]),\n",
       " array([-1177.70724208,  -971.20343269,  -764.6996233 ,  -558.19581391,\n",
       "         -351.69200452,  -145.18819512,    61.31561427,   267.81942366,\n",
       "          474.32323305,   680.82704244,   887.33085184]))"
      ]
     },
     "execution_count": 496,
     "metadata": {
      "tags": []
     },
     "output_type": "execute_result"
    }
   ],
   "source": [
    "print(\"data contain a lot of spikes\")\n",
    "np.histogram(train_X[1:1000,:].flatten())\n",
    "# for features,label in train_ds.batch(1).take(10):\n",
    "#   print(np.histogram(features.numpy().flatten()))\n",
    "  # plt.hist(label.numpy().flatten(), bins = 101)\n"
   ]
  },
  {
   "cell_type": "code",
   "execution_count": 507,
   "metadata": {
    "colab": {
     "base_uri": "https://localhost:8080/",
     "height": 350
    },
    "colab_type": "code",
    "id": "u1Yi3SPEpAY-",
    "outputId": "135f50b3-48cc-4729-cf06-bb41581aa750"
   },
   "outputs": [
    {
     "name": "stdout",
     "output_type": "stream",
     "text": [
      "(11660, 256, 1)\n",
      "(array([     7,     19,     25,    150,   1394, 252278,   1625,    181,\n",
      "           49,     16]), array([-42.80249951, -34.9881468 , -27.1737941 , -19.35944139,\n",
      "       -11.54508868,  -3.73073597,   4.08361674,  11.89796944,\n",
      "        19.71232215,  27.52667486,  35.34102757]))\n"
     ]
    },
    {
     "data": {
      "image/png": "[encoded data removed]",
      "text/plain": [
       "<Figure size 432x288 with 1 Axes>"
      ]
     },
     "metadata": {
      "needs_background": "light",
      "tags": []
     },
     "output_type": "display_data"
    }
   ],
   "source": [
    "def get_median_filtered(signal, threshold=100):\n",
    "  \"\"\"By Bugra\"\"\"\n",
    "  signal = signal.copy()\n",
    "  difference = np.abs(signal - np.median(signal))\n",
    "  median_difference = np.median(difference)\n",
    "  if median_difference == 0:\n",
    "      s = 0\n",
    "  else:\n",
    "      s = difference / float(median_difference)\n",
    "  mask = s > threshold\n",
    "  signal[mask] = np.median(signal)\n",
    "  # if over 10% of data are spikes. return zeros\n",
    "  if type(mask) is not bool and np.sum(mask) > 0.1 * len(mask):\n",
    "    return np.zeros(signal.shape)\n",
    "  return signal\n",
    "\n",
    "train_X = np.array([get_median_filtered(signal, 8) for signal in train_X])\n",
    "test_X = np.array([get_median_filtered(signal, 8) for signal in test_X])\n",
    "\n",
    "np.random.seed(0)\n",
    "for signal in train_X[np.random.choice(train_X.shape[0], 1000, replace=False),:]:\n",
    "  plt.plot(signal)\n",
    "\n",
    "print(train_X.shape)\n",
    "print(np.histogram(train_X[1:1000,:].flatten()))"
   ]
  },
  {
   "cell_type": "markdown",
   "metadata": {
    "colab_type": "text",
    "id": "lwbA1cZQsF4T"
   },
   "source": [
    "After removing spikes, the majority of the features are within a range of -20 to 30 (micro Vol). Let's scale them by 1/50 and normalize them."
   ]
  },
  {
   "cell_type": "code",
   "execution_count": 508,
   "metadata": {
    "colab": {
     "base_uri": "https://localhost:8080/",
     "height": 265
    },
    "colab_type": "code",
    "id": "n3OW8aPasg5k",
    "outputId": "f5080a9b-5d82-4cb9-c97c-d16869d062c1"
   },
   "outputs": [
    {
     "data": {
      "image/png": "[encoded data removed]",
      "text/plain": [
       "<Figure size 432x288 with 1 Axes>"
      ]
     },
     "metadata": {
      "needs_background": "light",
      "tags": []
     },
     "output_type": "display_data"
    }
   ],
   "source": [
    "train_X = np.array([0.5 + (signal-np.mean(signal))/50 for signal in train_X ])\n",
    "test_X = np.array([0.5 + (signal-np.mean(signal))/50 for signal in test_X ])\n",
    "for signal in train_X[np.random.choice(train_X.shape[0], 1000, replace=False),:]:\n",
    "  plt.plot(signal)"
   ]
  },
  {
   "cell_type": "markdown",
   "metadata": {
    "colab_type": "text",
    "id": "9cPNMSGJxc5r"
   },
   "source": [
    "### Drop out weak channels "
   ]
  },
  {
   "cell_type": "code",
   "execution_count": 509,
   "metadata": {
    "colab": {},
    "colab_type": "code",
    "id": "KKncwTuExbdc"
   },
   "outputs": [],
   "source": [
    "masks = [i for i, signal in enumerate(train_X) if np.sum(np.abs(signal))>1e-3]\n",
    "train_X = train_X[masks, :, :]\n",
    "train_y = train_y[masks, :]\n",
    "masks = [i for i, signal in enumerate(test_X) if np.sum(np.abs(signal))>1e-3]\n",
    "test_X = test_X[masks, :, :]\n",
    "test_y = test_y[masks, :]"
   ]
  },
  {
   "cell_type": "code",
   "execution_count": 510,
   "metadata": {
    "colab": {
     "base_uri": "https://localhost:8080/",
     "height": 119
    },
    "colab_type": "code",
    "id": "vzYyGGVZv7HI",
    "outputId": "c9fcbd34-fe9b-493f-cd25-7f7bc6709225"
   },
   "outputs": [
    {
     "name": "stdout",
     "output_type": "stream",
     "text": [
      "X shape = (samples, timesteps, nfeatures)\n",
      "y shape = (samples, nfeatures)\n",
      "shape trainX:(11660, 256, 1)\n",
      "shape trainy:(11660, 1)\n",
      "shape testX:(10149, 256, 1)\n",
      "shape testy:(10149, 1)\n"
     ]
    }
   ],
   "source": [
    "print(\"X shape = (samples, timesteps, nfeatures)\")\n",
    "print(\"y shape = (samples, nfeatures)\")\n",
    "print(f\"shape trainX:{train_X.shape}\")\n",
    "print(f\"shape trainy:{train_y.shape}\")\n",
    "print(f\"shape testX:{test_X.shape}\")\n",
    "print(f\"shape testy:{test_y.shape}\")"
   ]
  },
  {
   "cell_type": "code",
   "execution_count": 511,
   "metadata": {
    "colab": {
     "base_uri": "https://localhost:8080/",
     "height": 111
    },
    "colab_type": "code",
    "id": "mICOI7eqD-7g",
    "outputId": "25c9628d-419e-45f6-bf99-6b5623eb4dc7"
   },
   "outputs": [
    {
     "data": {
      "text/html": [
       "<div>\n",
       "<style scoped>\n",
       "    .dataframe tbody tr th:only-of-type {\n",
       "        vertical-align: middle;\n",
       "    }\n",
       "\n",
       "    .dataframe tbody tr th {\n",
       "        vertical-align: top;\n",
       "    }\n",
       "\n",
       "    .dataframe thead th {\n",
       "        text-align: right;\n",
       "    }\n",
       "</style>\n",
       "<table border=\"1\" class=\"dataframe\">\n",
       "  <thead>\n",
       "    <tr style=\"text-align: right;\">\n",
       "      <th></th>\n",
       "      <th>train</th>\n",
       "      <th>test</th>\n",
       "    </tr>\n",
       "  </thead>\n",
       "  <tbody>\n",
       "    <tr>\n",
       "      <th>0</th>\n",
       "      <td>10000</td>\n",
       "      <td>10000</td>\n",
       "    </tr>\n",
       "    <tr>\n",
       "      <th>1</th>\n",
       "      <td>1660</td>\n",
       "      <td>149</td>\n",
       "    </tr>\n",
       "  </tbody>\n",
       "</table>\n",
       "</div>"
      ],
      "text/plain": [
       "   train   test\n",
       "0  10000  10000\n",
       "1   1660    149"
      ]
     },
     "execution_count": 511,
     "metadata": {
      "tags": []
     },
     "output_type": "execute_result"
    }
   ],
   "source": [
    "pd.DataFrame({\n",
    "    'train': pd.Series(train_y.squeeze()).value_counts(),\n",
    "    'test': pd.Series(test_y.squeeze()).value_counts()\n",
    "})"
   ]
  },
  {
   "cell_type": "markdown",
   "metadata": {
    "colab_type": "text",
    "id": "yX0cLfcHv3rQ"
   },
   "source": [
    "## Modeling"
   ]
  },
  {
   "cell_type": "code",
   "execution_count": 512,
   "metadata": {
    "colab": {},
    "colab_type": "code",
    "id": "Mmjowt2rz3oY"
   },
   "outputs": [],
   "source": [
    "# Shuffling dataset\n",
    "def unison_shuffled_copies(a, b):\n",
    "  assert len(a) == len(b)\n",
    "  p = np.random.permutation(len(a))\n",
    "  return a[p], b[p]\n",
    "np.random.seed(0)\n",
    "train_X, train_y = unison_shuffled_copies(train_X, train_y)\n",
    "test_X, test_y = unison_shuffled_copies(test_X, test_y)"
   ]
  },
  {
   "cell_type": "code",
   "execution_count": 513,
   "metadata": {
    "colab": {
     "base_uri": "https://localhost:8080/",
     "height": 282
    },
    "colab_type": "code",
    "id": "HfJtYYC1iuyV",
    "outputId": "11c8acc6-3582-496a-af99-78b838b7d2c2"
   },
   "outputs": [
    {
     "name": "stdout",
     "output_type": "stream",
     "text": [
      "tf.Tensor([0], shape=(1,), dtype=int64)\n"
     ]
    },
    {
     "data": {
      "image/png": "[encoded data removed]",
      "text/plain": [
       "<Figure size 432x288 with 1 Axes>"
      ]
     },
     "metadata": {
      "needs_background": "light",
      "tags": []
     },
     "output_type": "display_data"
    }
   ],
   "source": [
    "import tensorflow as tf\n",
    "import matplotlib.pyplot as plt\n",
    "\n",
    "def pack_row(*row):\n",
    "  label = row[0]\n",
    "  features = tf.stack(row[1:],1)\n",
    "  return features, label\n",
    "\n",
    "# Packed dataset\n",
    "BATCHSIZE = 100\n",
    "train_ds = tf.data.Dataset.from_tensor_slices((train_X.squeeze(), train_y.squeeze())).batch(BATCHSIZE).map(pack_row).unbatch()\n",
    "test_ds = tf.data.Dataset.from_tensor_slices((test_X, test_y)).batch(BATCHSIZE).map(pack_row).unbatch()\n",
    "\n",
    "for features,label in train_ds.batch(100).take(1):\n",
    "  print(features[0])\n",
    "  plt.hist(label.numpy().flatten(), bins = 101)\n"
   ]
  },
  {
   "cell_type": "markdown",
   "metadata": {
    "colab_type": "text",
    "id": "OzHqQXeYFLBj"
   },
   "source": [
    "Check data balance"
   ]
  },
  {
   "cell_type": "code",
   "execution_count": 514,
   "metadata": {
    "colab": {
     "base_uri": "https://localhost:8080/",
     "height": 428
    },
    "colab_type": "code",
    "id": "YDdfzg74FRLN",
    "outputId": "c0f76e23-e936-446e-bfd5-55bf3c70028e"
   },
   "outputs": [
    {
     "name": "stdout",
     "output_type": "stream",
     "text": [
      "Model: \"sequential_67\"\n",
      "_________________________________________________________________\n",
      "Layer (type)                 Output Shape              Param #   \n",
      "=================================================================\n",
      "bidirectional_2 (Bidirection (None, 20)                960       \n",
      "_________________________________________________________________\n",
      "Dropout (Dropout)            (None, 20)                0         \n",
      "_________________________________________________________________\n",
      "Dense (Dense)                (None, 1)                 21        \n",
      "=================================================================\n",
      "Total params: 981\n",
      "Trainable params: 981\n",
      "Non-trainable params: 0\n",
      "_________________________________________________________________\n",
      "None\n",
      "start training\n",
      "Epoch 1/3\n",
      "19/19 [==============================] - 6s 335ms/step - loss: 13.1013 - accuracy: 0.1432 - val_loss: 13.1637 - val_accuracy: 0.1389\n",
      "Epoch 2/3\n",
      "19/19 [==============================] - 6s 307ms/step - loss: 13.0960 - accuracy: 0.1432 - val_loss: 13.1588 - val_accuracy: 0.1389\n",
      "Epoch 3/3\n",
      "19/19 [==============================] - 8s 416ms/step - loss: 13.0913 - accuracy: 0.1432 - val_loss: 13.1545 - val_accuracy: 0.1389\n"
     ]
    },
    {
     "data": {
      "text/plain": [
       "<tensorflow.python.keras.callbacks.History at 0x1a67067cd0>"
      ]
     },
     "execution_count": 514,
     "metadata": {
      "tags": []
     },
     "output_type": "execute_result"
    }
   ],
   "source": [
    "from keras.models import Sequential\n",
    "from keras.layers import Input, LSTM, Dense, Dropout, Bidirectional\n",
    "\n",
    "model = Sequential()\n",
    "model.add(Input(shape=(256,1), name='Input'))\n",
    "model.add(Bidirectional(LSTM(10, kernel_regularizer=\"l2\", name='LSTM-1')))\n",
    "model.add(Dropout(0.25, name='Dropout'))\n",
    "model.add(Dense(1, activation='softmax', name='Dense'))\n",
    "model.compile(loss='binary_crossentropy', optimizer='adam', metrics=['accuracy'])\n",
    "print(model.summary())\n",
    "\n",
    "print('start training')\n",
    "model.fit(\n",
    "        train_X, \n",
    "        train_y,\n",
    "        validation_split=0.2, \n",
    "        batch_size=500, \n",
    "        epochs=3,\n",
    "        verbose=1\n",
    "    )"
   ]
  },
  {
   "cell_type": "code",
   "execution_count": null,
   "metadata": {
    "colab": {},
    "colab_type": "code",
    "id": "jNFf-hFnRVLI"
   },
   "outputs": [],
   "source": []
  }
 ],
 "metadata": {
  "colab": {
   "collapsed_sections": [],
   "name": "Seizure-Forecasting-LSTM",
   "provenance": []
  },
  "kernelspec": {
   "display_name": "Python 3",
   "language": "python",
   "name": "python3"
  },
  "language_info": {
   "codemirror_mode": {
    "name": "ipython",
    "version": 3
   },
   "file_extension": ".py",
   "mimetype": "text/x-python",
   "name": "python",
   "nbconvert_exporter": "python",
   "pygments_lexer": "ipython3",
   "version": "3.7.7"
  }
 },
 "nbformat": 4,
 "nbformat_minor": 1
}
