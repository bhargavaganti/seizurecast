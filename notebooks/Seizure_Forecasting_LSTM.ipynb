{
 "cells": [
  {
   "cell_type": "markdown",
   "metadata": {},
   "source": [
    "# LSTM modeling of TUH_SEZ EEG dataset"
   ]
  },
  {
   "cell_type": "markdown",
   "metadata": {},
   "source": [
    "## Data Source"
   ]
  },
  {
   "cell_type": "markdown",
   "metadata": {},
   "source": [
    "The TUH EEG Seizure Corpus (TUSZ): This corpus has manually EEG signals that have been carefully annotated data for seizures. For more information about this corpus, please refer to https://www.isip.piconepress.com/projects/tuh_eeg/html/downloads.shtml"
   ]
  },
  {
   "cell_type": "markdown",
   "metadata": {},
   "source": [
    "## Prerequisites \n",
    "1. pre-process the TUSZ dataset (Relavent notebooks in the directory)\n",
    "2. insert the pre-processed data into a SQL database\n",
    "3. host the SQL database via SQLengine. This can be localhost or remote on RDS, etc.\n"
   ]
  },
  {
   "cell_type": "code",
   "execution_count": 274,
   "metadata": {
    "colab": {},
    "colab_type": "code",
    "id": "cPaIAjhNVUkR"
   },
   "outputs": [],
   "source": [
    "# !git clone https://github.com/ylin00/seizurecast\n",
    "import sys\n",
    "sys.path.append('..')\n",
    "import numpy as np\n",
    "import pandas as pd\n",
    "import matplotlib.pyplot as plt\n",
    "\n",
    "from seizurecast.postgresql import SQLengine\n",
    "from seizurecast.models.parameters import LABEL_BKG, LABEL_PRE, LABEL_SEZ\n",
    "\n",
    "def setlabel(pres, post, len_pos=300, len_pre=300, sec_gap=600):\n",
    "  \"\"\"convert pres and post timestamps to background and preseizure labels\"\"\"\n",
    "  y = []\n",
    "  for _, (pres, post) in enumerate(zip(pres, post)):\n",
    "    if post > len_pos and pres > sec_gap + len_pre:\n",
    "      y.append(LABEL_BKG)\n",
    "    elif post > len_pos and pres > sec_gap:\n",
    "      y.append(LABEL_PRE)\n",
    "    else:\n",
    "      y.append(LABEL_SEZ)\n",
    "  return y"
   ]
  },
  {
   "cell_type": "markdown",
   "metadata": {
    "colab_type": "text",
    "id": "vx4brGd_YExI"
   },
   "source": [
    "## Explore the table used in this notebook"
   ]
  },
  {
   "cell_type": "markdown",
   "metadata": {
    "colab_type": "text",
    "id": "DmlPfHR3aEUQ"
   },
   "source": [
    "### Preprocessed training set of TCP type 01 "
   ]
  },
  {
   "cell_type": "code",
   "execution_count": 308,
   "metadata": {
    "colab": {},
    "colab_type": "code",
    "id": "ghbShKUTVSwV"
   },
   "outputs": [
    {
     "data": {
      "text/html": [
       "<div>\n",
       "<style scoped>\n",
       "    .dataframe tbody tr th:only-of-type {\n",
       "        vertical-align: middle;\n",
       "    }\n",
       "\n",
       "    .dataframe tbody tr th {\n",
       "        vertical-align: top;\n",
       "    }\n",
       "\n",
       "    .dataframe thead th {\n",
       "        text-align: right;\n",
       "    }\n",
       "</style>\n",
       "<table border=\"1\" class=\"dataframe\">\n",
       "  <thead>\n",
       "    <tr style=\"text-align: right;\">\n",
       "      <th></th>\n",
       "      <th>index</th>\n",
       "      <th>ch0</th>\n",
       "      <th>ch1</th>\n",
       "      <th>ch2</th>\n",
       "      <th>ch3</th>\n",
       "      <th>ch4</th>\n",
       "      <th>ch5</th>\n",
       "      <th>ch6</th>\n",
       "      <th>ch7</th>\n",
       "      <th>token</th>\n",
       "      <th>timestamp</th>\n",
       "      <th>post</th>\n",
       "      <th>pres</th>\n",
       "    </tr>\n",
       "  </thead>\n",
       "  <tbody>\n",
       "    <tr>\n",
       "      <th>0</th>\n",
       "      <td>3288</td>\n",
       "      <td>-12.152822</td>\n",
       "      <td>6.48019</td>\n",
       "      <td>0.180046</td>\n",
       "      <td>-1.797507</td>\n",
       "      <td>8.262441</td>\n",
       "      <td>1.689422</td>\n",
       "      <td>0.017289</td>\n",
       "      <td>-2.230887</td>\n",
       "      <td>00010489_s005_t009</td>\n",
       "      <td>12.84375</td>\n",
       "      <td>None</td>\n",
       "      <td>None</td>\n",
       "    </tr>\n",
       "  </tbody>\n",
       "</table>\n",
       "</div>"
      ],
      "text/plain": [
       "   index        ch0      ch1       ch2       ch3       ch4       ch5  \\\n",
       "0   3288 -12.152822  6.48019  0.180046 -1.797507  8.262441  1.689422   \n",
       "\n",
       "        ch6       ch7               token  timestamp  post  pres  \n",
       "0  0.017289 -2.230887  00010489_s005_t009   12.84375  None  None  "
      ]
     },
     "execution_count": 308,
     "metadata": {},
     "output_type": "execute_result"
    }
   ],
   "source": [
    "pd.read_sql(\"select * from preprocessed_train_tcp01 where token='00010489_s005_t009' limit 1\", SQLengine).head()\n"
   ]
  },
  {
   "cell_type": "markdown",
   "metadata": {
    "colab_type": "text",
    "id": "iEB_FOsLaP9v"
   },
   "source": [
    "## Patient directory"
   ]
  },
  {
   "cell_type": "code",
   "execution_count": 280,
   "metadata": {
    "colab": {
     "base_uri": "https://localhost:8080/",
     "height": 224
    },
    "colab_type": "code",
    "id": "zqAu8tFtYPlu",
    "outputId": "e876210a-95cb-420c-b72b-0c5444d48d36"
   },
   "outputs": [
    {
     "data": {
      "text/html": [
       "<div>\n",
       "<style scoped>\n",
       "    .dataframe tbody tr th:only-of-type {\n",
       "        vertical-align: middle;\n",
       "    }\n",
       "\n",
       "    .dataframe tbody tr th {\n",
       "        vertical-align: top;\n",
       "    }\n",
       "\n",
       "    .dataframe thead th {\n",
       "        text-align: right;\n",
       "    }\n",
       "</style>\n",
       "<table border=\"1\" class=\"dataframe\">\n",
       "  <thead>\n",
       "    <tr style=\"text-align: right;\">\n",
       "      <th></th>\n",
       "      <th>index</th>\n",
       "      <th>path0</th>\n",
       "      <th>path1</th>\n",
       "      <th>path2</th>\n",
       "      <th>path3</th>\n",
       "      <th>path4</th>\n",
       "      <th>path5</th>\n",
       "      <th>path6</th>\n",
       "      <th>train_test</th>\n",
       "      <th>tcp_type</th>\n",
       "      <th>patient_group</th>\n",
       "      <th>patient</th>\n",
       "      <th>session</th>\n",
       "      <th>token</th>\n",
       "      <th>token_path</th>\n",
       "    </tr>\n",
       "  </thead>\n",
       "  <tbody>\n",
       "    <tr>\n",
       "      <th>0</th>\n",
       "      <td>0</td>\n",
       "      <td></td>\n",
       "      <td>Users</td>\n",
       "      <td>yanxlin</td>\n",
       "      <td>github</td>\n",
       "      <td>ids</td>\n",
       "      <td>tusz_1_5_2</td>\n",
       "      <td>edf</td>\n",
       "      <td>train</td>\n",
       "      <td>03_tcp_ar_a</td>\n",
       "      <td>104</td>\n",
       "      <td>00010418</td>\n",
       "      <td>s018_2014_06_01</td>\n",
       "      <td>00010418_s018_t008</td>\n",
       "      <td>/Users/yanxlin/github/ids/tusz_1_5_2/edf/train...</td>\n",
       "    </tr>\n",
       "    <tr>\n",
       "      <th>1</th>\n",
       "      <td>1</td>\n",
       "      <td></td>\n",
       "      <td>Users</td>\n",
       "      <td>yanxlin</td>\n",
       "      <td>github</td>\n",
       "      <td>ids</td>\n",
       "      <td>tusz_1_5_2</td>\n",
       "      <td>edf</td>\n",
       "      <td>train</td>\n",
       "      <td>03_tcp_ar_a</td>\n",
       "      <td>104</td>\n",
       "      <td>00010418</td>\n",
       "      <td>s018_2014_06_01</td>\n",
       "      <td>00010418_s018_t009</td>\n",
       "      <td>/Users/yanxlin/github/ids/tusz_1_5_2/edf/train...</td>\n",
       "    </tr>\n",
       "    <tr>\n",
       "      <th>2</th>\n",
       "      <td>2</td>\n",
       "      <td></td>\n",
       "      <td>Users</td>\n",
       "      <td>yanxlin</td>\n",
       "      <td>github</td>\n",
       "      <td>ids</td>\n",
       "      <td>tusz_1_5_2</td>\n",
       "      <td>edf</td>\n",
       "      <td>train</td>\n",
       "      <td>03_tcp_ar_a</td>\n",
       "      <td>104</td>\n",
       "      <td>00010418</td>\n",
       "      <td>s018_2014_06_01</td>\n",
       "      <td>00010418_s018_t001</td>\n",
       "      <td>/Users/yanxlin/github/ids/tusz_1_5_2/edf/train...</td>\n",
       "    </tr>\n",
       "    <tr>\n",
       "      <th>3</th>\n",
       "      <td>3</td>\n",
       "      <td></td>\n",
       "      <td>Users</td>\n",
       "      <td>yanxlin</td>\n",
       "      <td>github</td>\n",
       "      <td>ids</td>\n",
       "      <td>tusz_1_5_2</td>\n",
       "      <td>edf</td>\n",
       "      <td>train</td>\n",
       "      <td>03_tcp_ar_a</td>\n",
       "      <td>104</td>\n",
       "      <td>00010418</td>\n",
       "      <td>s018_2014_06_01</td>\n",
       "      <td>00010418_s018_t000</td>\n",
       "      <td>/Users/yanxlin/github/ids/tusz_1_5_2/edf/train...</td>\n",
       "    </tr>\n",
       "    <tr>\n",
       "      <th>4</th>\n",
       "      <td>4</td>\n",
       "      <td></td>\n",
       "      <td>Users</td>\n",
       "      <td>yanxlin</td>\n",
       "      <td>github</td>\n",
       "      <td>ids</td>\n",
       "      <td>tusz_1_5_2</td>\n",
       "      <td>edf</td>\n",
       "      <td>train</td>\n",
       "      <td>03_tcp_ar_a</td>\n",
       "      <td>104</td>\n",
       "      <td>00010418</td>\n",
       "      <td>s018_2014_06_01</td>\n",
       "      <td>00010418_s018_t002</td>\n",
       "      <td>/Users/yanxlin/github/ids/tusz_1_5_2/edf/train...</td>\n",
       "    </tr>\n",
       "  </tbody>\n",
       "</table>\n",
       "</div>"
      ],
      "text/plain": [
       "   index path0  path1    path2   path3 path4       path5 path6 train_test  \\\n",
       "0      0        Users  yanxlin  github   ids  tusz_1_5_2   edf      train   \n",
       "1      1        Users  yanxlin  github   ids  tusz_1_5_2   edf      train   \n",
       "2      2        Users  yanxlin  github   ids  tusz_1_5_2   edf      train   \n",
       "3      3        Users  yanxlin  github   ids  tusz_1_5_2   edf      train   \n",
       "4      4        Users  yanxlin  github   ids  tusz_1_5_2   edf      train   \n",
       "\n",
       "      tcp_type patient_group   patient          session               token  \\\n",
       "0  03_tcp_ar_a           104  00010418  s018_2014_06_01  00010418_s018_t008   \n",
       "1  03_tcp_ar_a           104  00010418  s018_2014_06_01  00010418_s018_t009   \n",
       "2  03_tcp_ar_a           104  00010418  s018_2014_06_01  00010418_s018_t001   \n",
       "3  03_tcp_ar_a           104  00010418  s018_2014_06_01  00010418_s018_t000   \n",
       "4  03_tcp_ar_a           104  00010418  s018_2014_06_01  00010418_s018_t002   \n",
       "\n",
       "                                          token_path  \n",
       "0  /Users/yanxlin/github/ids/tusz_1_5_2/edf/train...  \n",
       "1  /Users/yanxlin/github/ids/tusz_1_5_2/edf/train...  \n",
       "2  /Users/yanxlin/github/ids/tusz_1_5_2/edf/train...  \n",
       "3  /Users/yanxlin/github/ids/tusz_1_5_2/edf/train...  \n",
       "4  /Users/yanxlin/github/ids/tusz_1_5_2/edf/train...  "
      ]
     },
     "execution_count": 280,
     "metadata": {},
     "output_type": "execute_result"
    }
   ],
   "source": [
    "pd.read_sql(\"select * from directory limit 10\", SQLengine).head()"
   ]
  },
  {
   "cell_type": "markdown",
   "metadata": {
    "colab_type": "text",
    "id": "nn3gGtaFaa_N"
   },
   "source": [
    "## Labels of seizure events from experts"
   ]
  },
  {
   "cell_type": "code",
   "execution_count": 288,
   "metadata": {
    "colab": {
     "base_uri": "https://localhost:8080/",
     "height": 34
    },
    "colab_type": "code",
    "id": "14PIjjXJVjp-",
    "outputId": "c77086f1-3cc4-40af-d0d4-64d80dea5c8c"
   },
   "outputs": [
    {
     "name": "stdout",
     "output_type": "stream",
     "text": [
      "Number of token containing seizures = 2370\n",
      "Else = 6967\n"
     ]
    },
    {
     "data": {
      "text/html": [
       "<div>\n",
       "<style scoped>\n",
       "    .dataframe tbody tr th:only-of-type {\n",
       "        vertical-align: middle;\n",
       "    }\n",
       "\n",
       "    .dataframe tbody tr th {\n",
       "        vertical-align: top;\n",
       "    }\n",
       "\n",
       "    .dataframe thead th {\n",
       "        text-align: right;\n",
       "    }\n",
       "</style>\n",
       "<table border=\"1\" class=\"dataframe\">\n",
       "  <thead>\n",
       "    <tr style=\"text-align: right;\">\n",
       "      <th></th>\n",
       "      <th>level_0</th>\n",
       "      <th>index</th>\n",
       "      <th>token</th>\n",
       "      <th>time_start</th>\n",
       "      <th>time_end</th>\n",
       "      <th>label</th>\n",
       "      <th>prob</th>\n",
       "      <th>train_test</th>\n",
       "    </tr>\n",
       "  </thead>\n",
       "  <tbody>\n",
       "    <tr>\n",
       "      <th>0</th>\n",
       "      <td>0</td>\n",
       "      <td>36</td>\n",
       "      <td>00000492_s003_t000</td>\n",
       "      <td>6.2825</td>\n",
       "      <td>35.8875</td>\n",
       "      <td>seiz</td>\n",
       "      <td>1.0</td>\n",
       "      <td>train</td>\n",
       "    </tr>\n",
       "    <tr>\n",
       "      <th>1</th>\n",
       "      <td>1</td>\n",
       "      <td>39</td>\n",
       "      <td>00000492_s003_t001</td>\n",
       "      <td>33.1425</td>\n",
       "      <td>53.0000</td>\n",
       "      <td>seiz</td>\n",
       "      <td>1.0</td>\n",
       "      <td>train</td>\n",
       "    </tr>\n",
       "    <tr>\n",
       "      <th>2</th>\n",
       "      <td>2</td>\n",
       "      <td>42</td>\n",
       "      <td>00000492_s003_t002</td>\n",
       "      <td>9.7925</td>\n",
       "      <td>29.1250</td>\n",
       "      <td>seiz</td>\n",
       "      <td>1.0</td>\n",
       "      <td>train</td>\n",
       "    </tr>\n",
       "  </tbody>\n",
       "</table>\n",
       "</div>"
      ],
      "text/plain": [
       "   level_0  index               token  time_start  time_end label  prob  \\\n",
       "0        0     36  00000492_s003_t000      6.2825   35.8875  seiz   1.0   \n",
       "1        1     39  00000492_s003_t001     33.1425   53.0000  seiz   1.0   \n",
       "2        2     42  00000492_s003_t002      9.7925   29.1250  seiz   1.0   \n",
       "\n",
       "  train_test  \n",
       "0      train  \n",
       "1      train  \n",
       "2      train  "
      ]
     },
     "execution_count": 288,
     "metadata": {},
     "output_type": "execute_result"
    }
   ],
   "source": [
    "[pd.read_sql(f\"\"\"\n",
    "select * from seiz_bckg \n",
    "where label='{lbl}' and train_test='train'\n",
    "\"\"\", SQLengine).to_sql(f'tmp_{lbl}_train', SQLengine, if_exists='replace') for lbl in ['bckg', 'seiz']]\n",
    "print(f\"\"\"Number of token containing seizures = {pd.read_sql(\"select count(*) from tmp_seiz_train\", SQLengine).to_numpy()[0,0]}\"\"\")\n",
    "print(f\"\"\"Else = {pd.read_sql(\"select count(*) from tmp_bckg_train\", SQLengine).to_numpy()[0,0]}\"\"\")\n",
    "pd.read_sql(\"select * from tmp_seiz_train limit 3\", SQLengine).head()"
   ]
  },
  {
   "cell_type": "code",
   "execution_count": 293,
   "metadata": {},
   "outputs": [],
   "source": [
    "# # Computing the duration of each token \n",
    "# pd.read_sql(\n",
    "# \"\"\"\n",
    "# SELECT token, max(time_end) duration from tmp_seiz_train group by token limit 3\n",
    "# \"\"\", SQLengine).head()"
   ]
  },
  {
   "cell_type": "markdown",
   "metadata": {
    "colab_type": "text",
    "id": "5_UbSdqZY4V1"
   },
   "source": [
    "# Split Train Test patients"
   ]
  },
  {
   "cell_type": "code",
   "execution_count": 289,
   "metadata": {
    "colab": {
     "base_uri": "https://localhost:8080/",
     "height": 34
    },
    "colab_type": "code",
    "id": "JK3fKdliPBis",
    "outputId": "a685808d-a5bd-4bc7-b742-ac255ca29fcc"
   },
   "outputs": [
    {
     "name": "stdout",
     "output_type": "stream",
     "text": [
      "Patient ID: ['00000577' '00006103' '00007936'] ..., Train:(246,), Test:(62,)\n"
     ]
    }
   ],
   "source": [
    "# randomly sample 80/20 on patient level\n",
    "from sklearn.model_selection import train_test_split\n",
    "patient_id = np.unique(pd.read_sql(\"select * from directory where train_test='train' and tcp_type='01_tcp_ar'\", SQLengine).loc[:,'patient'])\n",
    "patient_train, patient_test = train_test_split(patient_id, test_size=0.2, random_state=0)\n",
    "\n",
    "print(f\"Patient ID: {patient_train[0:3]} ..., Train:{patient_train.shape}, Test:{patient_test.shape}\")"
   ]
  },
  {
   "cell_type": "code",
   "execution_count": 290,
   "metadata": {
    "colab": {},
    "colab_type": "code",
    "id": "0VwR7aTv9BoZ"
   },
   "outputs": [],
   "source": [
    "# Create table patient_group, storing patient ID and their train/test association\n",
    "pd.concat(\n",
    "    [pd.DataFrame({'patient':patient_train}).assign(train_test='train'),\n",
    "    pd.DataFrame({'patient':patient_test}).assign(train_test='test')]\n",
    "          ).to_sql('patient_group', SQLengine, if_exists='replace')"
   ]
  },
  {
   "cell_type": "code",
   "execution_count": 291,
   "metadata": {
    "colab": {},
    "colab_type": "code",
    "id": "mnIRmeSU-S_G"
   },
   "outputs": [],
   "source": [
    "# create table tmp_token_group storing Token and their train/test group\n",
    "pd.read_sql(\"\"\"\n",
    "select A.train_test, B.token\n",
    "from patient_group A\n",
    "inner join directory B on A.patient=B.patient;\n",
    "\"\"\",SQLengine).to_sql('tmp_token_group', SQLengine, if_exists='replace')"
   ]
  },
  {
   "cell_type": "code",
   "execution_count": 294,
   "metadata": {
    "colab": {
     "base_uri": "https://localhost:8080/",
     "height": 153
    },
    "colab_type": "code",
    "id": "bJVRATpPBRSC",
    "outputId": "520883a4-3c6e-487c-d744-c83d9502e036"
   },
   "outputs": [
    {
     "name": "stdout",
     "output_type": "stream",
     "text": [
      "patient group \n",
      "             token\n",
      "train_test       \n",
      "test          712\n",
      "train        2974\n"
     ]
    }
   ],
   "source": [
    "print(\"patient group \\n\", pd.read_sql(\"select * from tmp_token_group\", SQLengine)[['train_test','token']].groupby('train_test').count())"
   ]
  },
  {
   "cell_type": "markdown",
   "metadata": {},
   "source": [
    "## Load train/test dataset"
   ]
  },
  {
   "cell_type": "code",
   "execution_count": 93,
   "metadata": {
    "colab": {},
    "colab_type": "code",
    "id": "TFhH8fJU78nK"
   },
   "outputs": [
    {
     "name": "stdout",
     "output_type": "stream",
     "text": [
      "Size of Tran set = (12040, 13); \n",
      "Size of Test set = (3428, 13)\n"
     ]
    }
   ],
   "source": [
    "# Threshold\n",
    "# len_pos, len_pre, sec_gap = 300, 300, 600  # default\n",
    "len_pos, len_pre, sec_gap = 30, 300, 0\n",
    "\n",
    "# select train dataset\n",
    "feature_table = 'preprocessed_train_tcp01'\n",
    "dataset=[]\n",
    "for i, group in enumerate(['train', 'test']):\n",
    "  dataset.append(pd.read_sql(f\"\"\"\n",
    "  (\n",
    "    select *\n",
    "    from {feature_table} A\n",
    "    where A.token in (\n",
    "      select B.token from tmp_token_group B where B.train_test='{group}'\n",
    "    ) and (\n",
    "      A.pres<{sec_gap + len_pre}\n",
    "      and {sec_gap}<A.pres\n",
    "      and A.post>{len_pos}\n",
    "    ) \n",
    "    limit 10000\n",
    "  )\n",
    "\n",
    "  union\n",
    "\n",
    "  (\n",
    "    select *\n",
    "    from {feature_table} A\n",
    "    where A.token in (\n",
    "      select B.token from tmp_token_group B where B.train_test='{group}' \n",
    "    ) and (\n",
    "      {sec_gap + len_pre}<A.pres\n",
    "      and A.post>{len_pos}\n",
    "    )\n",
    "    limit 10000\n",
    "  );\n",
    "  \"\"\", SQLengine))\n",
    "print(f\"Size of Tran set = {dataset[0].shape}; \\nSize of Test set = {dataset[1].shape}\")"
   ]
  },
  {
   "cell_type": "code",
   "execution_count": 94,
   "metadata": {
    "colab": {},
    "colab_type": "code",
    "id": "vsER43hYUQYH"
   },
   "outputs": [
    {
     "name": "stdout",
     "output_type": "stream",
     "text": [
      "binary clf data \n",
      "        index    ch0    ch1    ch2    ch3    ch4    ch5    ch6    ch7  token  \\\n",
      "label                                                                         \n",
      "bckg   10000  10000  10000  10000  10000  10000  10000  10000  10000  10000   \n",
      "pres    2040   2040   2040   2040   2040   2040   2040   2040   2040   2040   \n",
      "\n",
      "       timestamp   post   pres  \n",
      "label                           \n",
      "bckg       10000  10000  10000  \n",
      "pres        2040   2040   2040  \n"
     ]
    }
   ],
   "source": [
    "\n",
    "print('binary clf data \\n',\n",
    "dataset[0]\\\n",
    ".assign(label = lambda x: setlabel(x.pres, x.post, len_pos=len_pos, len_pre=len_pre, sec_gap=sec_gap))\\\n",
    ".groupby(['label'])\\\n",
    ".count())"
   ]
  },
  {
   "cell_type": "markdown",
   "metadata": {
    "colab_type": "text",
    "id": "jzcOwmchxeq0"
   },
   "source": [
    "# Training"
   ]
  },
  {
   "cell_type": "markdown",
   "metadata": {
    "colab_type": "text",
    "id": "zxOhdwMOwmIb"
   },
   "source": [
    "## Data Prep"
   ]
  },
  {
   "cell_type": "code",
   "execution_count": 203,
   "metadata": {},
   "outputs": [
    {
     "data": {
      "text/plain": [
       "array([[1, 2, 3, 4],\n",
       "       [3, 4, 5, 6]])"
      ]
     },
     "execution_count": 203,
     "metadata": {},
     "output_type": "execute_result"
    }
   ],
   "source": [
    "def chop_signal(long_vec, width=256, stepsize=64):\n",
    "    \"\"\"Chop a long long vector into 2D numpy array of width, consecutive rows will have certain overlap\n",
    "    \n",
    "    Args:\n",
    "        long_vec: long vector\n",
    "        width(int): width of the result. Must no greater than length of long_vec \n",
    "        overlap(int): Must less than width. \n",
    "    \"\"\"\n",
    "    long_vec = np.hstack([long_vec[i:i+width] for i in np.arange(0, len(long_vec)-width, stepsize)])\n",
    "    return np.reshape(long_vec[0:(len(long_vec)//width*width)], [-1, width])\n",
    "\n",
    "chop_signal([1, 2, 3, 4, 5, 6, 7, 8], width=4, stepsize=1)"
   ]
  },
  {
   "cell_type": "code",
   "execution_count": 226,
   "metadata": {},
   "outputs": [
    {
     "data": {
      "text/html": [
       "<div>\n",
       "<style scoped>\n",
       "    .dataframe tbody tr th:only-of-type {\n",
       "        vertical-align: middle;\n",
       "    }\n",
       "\n",
       "    .dataframe tbody tr th {\n",
       "        vertical-align: top;\n",
       "    }\n",
       "\n",
       "    .dataframe thead th {\n",
       "        text-align: right;\n",
       "    }\n",
       "</style>\n",
       "<table border=\"1\" class=\"dataframe\">\n",
       "  <thead>\n",
       "    <tr style=\"text-align: right;\">\n",
       "      <th></th>\n",
       "      <th>0</th>\n",
       "      <th>1</th>\n",
       "      <th>2</th>\n",
       "      <th>3</th>\n",
       "      <th>4</th>\n",
       "      <th>5</th>\n",
       "      <th>6</th>\n",
       "      <th>7</th>\n",
       "      <th>8</th>\n",
       "      <th>9</th>\n",
       "      <th>...</th>\n",
       "      <th>246</th>\n",
       "      <th>247</th>\n",
       "      <th>248</th>\n",
       "      <th>249</th>\n",
       "      <th>250</th>\n",
       "      <th>251</th>\n",
       "      <th>252</th>\n",
       "      <th>253</th>\n",
       "      <th>254</th>\n",
       "      <th>255</th>\n",
       "    </tr>\n",
       "  </thead>\n",
       "  <tbody>\n",
       "    <tr>\n",
       "      <th>0</th>\n",
       "      <td>-5416.341192</td>\n",
       "      <td>422.452514</td>\n",
       "      <td>25.003054</td>\n",
       "      <td>-0.084471</td>\n",
       "      <td>1.329349</td>\n",
       "      <td>0.086330</td>\n",
       "      <td>0.507676</td>\n",
       "      <td>-194.958594</td>\n",
       "      <td>0.572571</td>\n",
       "      <td>1.947392</td>\n",
       "      <td>...</td>\n",
       "      <td>-1.793234</td>\n",
       "      <td>-1.276645</td>\n",
       "      <td>-266.957839</td>\n",
       "      <td>0.409453</td>\n",
       "      <td>-5.652548</td>\n",
       "      <td>0.120854</td>\n",
       "      <td>0.006312</td>\n",
       "      <td>1.263053</td>\n",
       "      <td>-1.662148</td>\n",
       "      <td>2.305532</td>\n",
       "    </tr>\n",
       "    <tr>\n",
       "      <th>1</th>\n",
       "      <td>-4601.017235</td>\n",
       "      <td>-0.179022</td>\n",
       "      <td>12.600488</td>\n",
       "      <td>-48.456420</td>\n",
       "      <td>-51.710552</td>\n",
       "      <td>0.051018</td>\n",
       "      <td>18.448605</td>\n",
       "      <td>-0.756164</td>\n",
       "      <td>204.123160</td>\n",
       "      <td>-237.004586</td>\n",
       "      <td>...</td>\n",
       "      <td>-25.960476</td>\n",
       "      <td>-88.065364</td>\n",
       "      <td>219.104664</td>\n",
       "      <td>0.131065</td>\n",
       "      <td>57.266589</td>\n",
       "      <td>0.110951</td>\n",
       "      <td>13.100263</td>\n",
       "      <td>-188.949332</td>\n",
       "      <td>-0.178256</td>\n",
       "      <td>-0.019313</td>\n",
       "    </tr>\n",
       "    <tr>\n",
       "      <th>2</th>\n",
       "      <td>-0.150390</td>\n",
       "      <td>-3.809664</td>\n",
       "      <td>-0.188970</td>\n",
       "      <td>-0.333022</td>\n",
       "      <td>10.813831</td>\n",
       "      <td>0.023704</td>\n",
       "      <td>0.107324</td>\n",
       "      <td>0.265764</td>\n",
       "      <td>-0.487808</td>\n",
       "      <td>-0.149869</td>\n",
       "      <td>...</td>\n",
       "      <td>0.315246</td>\n",
       "      <td>0.152372</td>\n",
       "      <td>-1.831806</td>\n",
       "      <td>-0.250632</td>\n",
       "      <td>0.236453</td>\n",
       "      <td>1.466546</td>\n",
       "      <td>-2.615175</td>\n",
       "      <td>-278.921723</td>\n",
       "      <td>0.830645</td>\n",
       "      <td>0.107084</td>\n",
       "    </tr>\n",
       "    <tr>\n",
       "      <th>3</th>\n",
       "      <td>12.906474</td>\n",
       "      <td>0.116943</td>\n",
       "      <td>0.557850</td>\n",
       "      <td>-24.393317</td>\n",
       "      <td>0.262949</td>\n",
       "      <td>0.296430</td>\n",
       "      <td>-0.302976</td>\n",
       "      <td>62.080365</td>\n",
       "      <td>-0.325197</td>\n",
       "      <td>2.078073</td>\n",
       "      <td>...</td>\n",
       "      <td>1.220558</td>\n",
       "      <td>-1.366585</td>\n",
       "      <td>14.458503</td>\n",
       "      <td>-628.810425</td>\n",
       "      <td>490.810950</td>\n",
       "      <td>-83.830397</td>\n",
       "      <td>5.549310</td>\n",
       "      <td>-0.131032</td>\n",
       "      <td>1.232116</td>\n",
       "      <td>-0.531051</td>\n",
       "    </tr>\n",
       "    <tr>\n",
       "      <th>4</th>\n",
       "      <td>-347.631857</td>\n",
       "      <td>19.444096</td>\n",
       "      <td>0.086547</td>\n",
       "      <td>-99.701081</td>\n",
       "      <td>-1.751341</td>\n",
       "      <td>0.334110</td>\n",
       "      <td>4.648541</td>\n",
       "      <td>615.137959</td>\n",
       "      <td>25.915832</td>\n",
       "      <td>90.116549</td>\n",
       "      <td>...</td>\n",
       "      <td>-5.874777</td>\n",
       "      <td>10.438763</td>\n",
       "      <td>23.960211</td>\n",
       "      <td>-1.982237</td>\n",
       "      <td>0.263122</td>\n",
       "      <td>-277.154723</td>\n",
       "      <td>0.302948</td>\n",
       "      <td>-342.908712</td>\n",
       "      <td>-408.274742</td>\n",
       "      <td>-53.780103</td>\n",
       "    </tr>\n",
       "  </tbody>\n",
       "</table>\n",
       "<p>5 rows × 256 columns</p>\n",
       "</div>"
      ],
      "text/plain": [
       "           0           1          2          3          4         5    \\\n",
       "0 -5416.341192  422.452514  25.003054  -0.084471   1.329349  0.086330   \n",
       "1 -4601.017235   -0.179022  12.600488 -48.456420 -51.710552  0.051018   \n",
       "2    -0.150390   -3.809664  -0.188970  -0.333022  10.813831  0.023704   \n",
       "3    12.906474    0.116943   0.557850 -24.393317   0.262949  0.296430   \n",
       "4  -347.631857   19.444096   0.086547 -99.701081  -1.751341  0.334110   \n",
       "\n",
       "         6           7           8           9    ...        246        247  \\\n",
       "0   0.507676 -194.958594    0.572571    1.947392  ...  -1.793234  -1.276645   \n",
       "1  18.448605   -0.756164  204.123160 -237.004586  ... -25.960476 -88.065364   \n",
       "2   0.107324    0.265764   -0.487808   -0.149869  ...   0.315246   0.152372   \n",
       "3  -0.302976   62.080365   -0.325197    2.078073  ...   1.220558  -1.366585   \n",
       "4   4.648541  615.137959   25.915832   90.116549  ...  -5.874777  10.438763   \n",
       "\n",
       "          248         249         250         251        252         253  \\\n",
       "0 -266.957839    0.409453   -5.652548    0.120854   0.006312    1.263053   \n",
       "1  219.104664    0.131065   57.266589    0.110951  13.100263 -188.949332   \n",
       "2   -1.831806   -0.250632    0.236453    1.466546  -2.615175 -278.921723   \n",
       "3   14.458503 -628.810425  490.810950  -83.830397   5.549310   -0.131032   \n",
       "4   23.960211   -1.982237    0.263122 -277.154723   0.302948 -342.908712   \n",
       "\n",
       "          254        255  \n",
       "0   -1.662148   2.305532  \n",
       "1   -0.178256  -0.019313  \n",
       "2    0.830645   0.107084  \n",
       "3    1.232116  -0.531051  \n",
       "4 -408.274742 -53.780103  \n",
       "\n",
       "[5 rows x 256 columns]"
      ]
     },
     "execution_count": 226,
     "metadata": {},
     "output_type": "execute_result"
    }
   ],
   "source": [
    "def get_dataset(df):\n",
    "    df = df\\\n",
    "    .assign(label = lambda x: setlabel(x.pres, x.post, len_pos=len_pos, len_pre=len_pre, sec_gap=sec_gap))\\\n",
    "    .loc[lambda df: \n",
    "         df.token.isin(\n",
    "             df\\\n",
    "                .groupby('token')\\\n",
    "                .count()\\\n",
    "                .reset_index()\\\n",
    "                .loc[lambda df: df['index'] > 256]\\\n",
    "                .loc[:, ['token']].to_numpy().flatten()\n",
    "         )]\\\n",
    "    .loc[:,['token', 'label', 'ch0']]\\\n",
    "    .groupby(['token', 'label'])\\\n",
    "    .apply(lambda df: pd.DataFrame(chop_signal(df['ch0'].to_numpy(), 256, 64)))\\\n",
    "    .reset_index()\n",
    "    return df.iloc[:, 3:259], df.iloc[:, 1]\n",
    "\n",
    "dataset[0].pipe(get_dataset)[0].head()\n",
    "# .loc[lambda df: df.groupby['token'].count().loc[:,'index']]\n",
    "\n",
    "# .iloc[label=='pres'].head()"
   ]
  },
  {
   "cell_type": "markdown",
   "metadata": {},
   "source": [
    "### Convert dataframe to numpy array"
   ]
  },
  {
   "cell_type": "code",
   "execution_count": 250,
   "metadata": {
    "colab": {},
    "colab_type": "code",
    "id": "iXo5nwW2en13"
   },
   "outputs": [
    {
     "name": "stdout",
     "output_type": "stream",
     "text": [
      "shape of train X = (121, 256, 1), test X = (35, 256, 1)\n"
     ]
    }
   ],
   "source": [
    "train_X, train_y = dataset[0].pipe(get_dataset)\n",
    "test_X, test_y = dataset[1].pipe(get_dataset)\n",
    "\n",
    "train_X, test_X = [x.to_numpy()[:, :, np.newaxis] for x in [train_X, test_X]]  # new feature axis\n",
    "train_y, test_y = [x.to_numpy() for x in [train_y, test_y]]\n",
    "\n",
    "# binarize\n",
    "test_y = np.array([int(y==LABEL_PRE) for y in test_y])[:,np.newaxis]\n",
    "train_y = np.array([int(y==LABEL_PRE) for y in train_y])[:,np.newaxis]\n",
    "\n",
    "print(f'shape of train X = {train_X.shape}, test X = {test_X.shape}')"
   ]
  },
  {
   "cell_type": "code",
   "execution_count": 251,
   "metadata": {
    "colab": {
     "base_uri": "https://localhost:8080/",
     "height": 119
    },
    "colab_type": "code",
    "id": "wCcnuXQRkaeT",
    "outputId": "60f2b603-e877-41d6-db2a-092eaeef17d1"
   },
   "outputs": [
    {
     "name": "stdout",
     "output_type": "stream",
     "text": [
      "data contain a lot of spikes\n"
     ]
    },
    {
     "data": {
      "image/png": "[encoded data removed]",
      "text/plain": [
       "<Figure size 432x288 with 1 Axes>"
      ]
     },
     "metadata": {
      "needs_background": "light"
     },
     "output_type": "display_data"
    }
   ],
   "source": [
    "print(\"data contain a lot of spikes\")\n",
    "# np.histogram(train_X[1:1000,:].flatten())\n",
    "# for features,label in train_ds.batch(1).take(10):\n",
    "#   print(np.histogram(features.numpy().flatten()))\n",
    "_ = plt.hist(train_X[1:100,:].flatten(), bins = 101)"
   ]
  },
  {
   "cell_type": "code",
   "execution_count": 252,
   "metadata": {
    "colab": {
     "base_uri": "https://localhost:8080/",
     "height": 350
    },
    "colab_type": "code",
    "id": "u1Yi3SPEpAY-",
    "outputId": "135f50b3-48cc-4729-cf06-bb41581aa750"
   },
   "outputs": [
    {
     "data": {
      "image/png": "[encoded data removed]",
      "text/plain": [
       "<Figure size 432x288 with 2 Axes>"
      ]
     },
     "metadata": {
      "needs_background": "light"
     },
     "output_type": "display_data"
    }
   ],
   "source": [
    "def get_median_filtered(signal, threshold=100):\n",
    "  \"\"\"By Bugra\"\"\"\n",
    "  signal = signal.copy()\n",
    "  difference = np.abs(signal - np.median(signal))\n",
    "  median_difference = np.median(difference)\n",
    "  if median_difference == 0:\n",
    "      s = 0\n",
    "  else:\n",
    "      s = difference / float(median_difference)\n",
    "  mask = s > threshold\n",
    "  signal[mask] = np.median(signal)\n",
    "  # if over 10% of data are spikes. return zeros\n",
    "  if type(mask) is not bool and np.sum(mask) > 0.1 * len(mask):\n",
    "    return np.zeros(signal.shape)\n",
    "  return signal\n",
    "\n",
    "train_X = np.array([get_median_filtered(signal, 8) for signal in train_X])\n",
    "test_X = np.array([get_median_filtered(signal, 8) for signal in test_X])\n",
    "\n",
    "_, axs = plt.subplots(2,1)\n",
    "np.random.seed(0)\n",
    "for signal in train_X[np.random.choice(train_X.shape[0], 100, replace=False),:]:\n",
    "    axs[0].plot(signal)\n",
    "\n",
    "_ = axs[1].hist(train_X[1:100,:].flatten(), bins = 101)"
   ]
  },
  {
   "cell_type": "markdown",
   "metadata": {
    "colab_type": "text",
    "id": "lwbA1cZQsF4T"
   },
   "source": [
    "After removing spikes, the majority of the features are within a range of -20 to 20 (micro Vol). Let's scale them by 1/50 and normalize them."
   ]
  },
  {
   "cell_type": "code",
   "execution_count": 253,
   "metadata": {
    "colab": {
     "base_uri": "https://localhost:8080/",
     "height": 265
    },
    "colab_type": "code",
    "id": "n3OW8aPasg5k",
    "outputId": "f5080a9b-5d82-4cb9-c97c-d16869d062c1"
   },
   "outputs": [
    {
     "data": {
      "image/png": "[encoded data removed]",
      "text/plain": [
       "<Figure size 432x288 with 1 Axes>"
      ]
     },
     "metadata": {
      "needs_background": "light"
     },
     "output_type": "display_data"
    }
   ],
   "source": [
    "train_X = np.array([0.5 + (signal-np.mean(signal))/50 for signal in train_X ])\n",
    "test_X = np.array([0.5 + (signal-np.mean(signal))/50 for signal in test_X ])\n",
    "for signal in train_X[np.random.choice(train_X.shape[0], 100, replace=False),:]:\n",
    "    plt.plot(signal)"
   ]
  },
  {
   "cell_type": "markdown",
   "metadata": {
    "colab_type": "text",
    "id": "9cPNMSGJxc5r"
   },
   "source": [
    "### Drop out weak channels "
   ]
  },
  {
   "cell_type": "code",
   "execution_count": 254,
   "metadata": {
    "colab": {},
    "colab_type": "code",
    "id": "KKncwTuExbdc"
   },
   "outputs": [],
   "source": [
    "masks = [i for i, signal in enumerate(train_X) if np.sum(np.abs(signal))>1e-3]\n",
    "train_X = train_X[masks, :, :]\n",
    "train_y = train_y[masks, :]\n",
    "masks = [i for i, signal in enumerate(test_X) if np.sum(np.abs(signal))>1e-3]\n",
    "test_X = test_X[masks, :, :]\n",
    "test_y = test_y[masks, :]"
   ]
  },
  {
   "cell_type": "code",
   "execution_count": 255,
   "metadata": {
    "colab": {
     "base_uri": "https://localhost:8080/",
     "height": 119
    },
    "colab_type": "code",
    "id": "vzYyGGVZv7HI",
    "outputId": "c9fcbd34-fe9b-493f-cd25-7f7bc6709225"
   },
   "outputs": [
    {
     "name": "stdout",
     "output_type": "stream",
     "text": [
      "X shape = (samples, timesteps, nfeatures)\n",
      "y shape = (samples, nfeatures)\n",
      "shape trainX:(121, 256, 1)\n",
      "shape trainy:(121, 1)\n",
      "shape testX:(35, 256, 1)\n",
      "shape testy:(35, 1)\n"
     ]
    }
   ],
   "source": [
    "print(\"X shape = (samples, timesteps, nfeatures)\")\n",
    "print(\"y shape = (samples, nfeatures)\")\n",
    "print(f\"shape trainX:{train_X.shape}\")\n",
    "print(f\"shape trainy:{train_y.shape}\")\n",
    "print(f\"shape testX:{test_X.shape}\")\n",
    "print(f\"shape testy:{test_y.shape}\")"
   ]
  },
  {
   "cell_type": "code",
   "execution_count": 256,
   "metadata": {
    "colab": {
     "base_uri": "https://localhost:8080/",
     "height": 111
    },
    "colab_type": "code",
    "id": "mICOI7eqD-7g",
    "outputId": "25c9628d-419e-45f6-bf99-6b5623eb4dc7"
   },
   "outputs": [
    {
     "data": {
      "text/html": [
       "<div>\n",
       "<style scoped>\n",
       "    .dataframe tbody tr th:only-of-type {\n",
       "        vertical-align: middle;\n",
       "    }\n",
       "\n",
       "    .dataframe tbody tr th {\n",
       "        vertical-align: top;\n",
       "    }\n",
       "\n",
       "    .dataframe thead th {\n",
       "        text-align: right;\n",
       "    }\n",
       "</style>\n",
       "<table border=\"1\" class=\"dataframe\">\n",
       "  <thead>\n",
       "    <tr style=\"text-align: right;\">\n",
       "      <th></th>\n",
       "      <th>train</th>\n",
       "      <th>test</th>\n",
       "    </tr>\n",
       "  </thead>\n",
       "  <tbody>\n",
       "    <tr>\n",
       "      <th>0</th>\n",
       "      <td>107</td>\n",
       "      <td>35.0</td>\n",
       "    </tr>\n",
       "    <tr>\n",
       "      <th>1</th>\n",
       "      <td>14</td>\n",
       "      <td>NaN</td>\n",
       "    </tr>\n",
       "  </tbody>\n",
       "</table>\n",
       "</div>"
      ],
      "text/plain": [
       "   train  test\n",
       "0    107  35.0\n",
       "1     14   NaN"
      ]
     },
     "execution_count": 256,
     "metadata": {},
     "output_type": "execute_result"
    }
   ],
   "source": [
    "pd.DataFrame({\n",
    "    'train': pd.Series(train_y.squeeze()).value_counts(),\n",
    "    'test': pd.Series(test_y.squeeze()).value_counts()\n",
    "})"
   ]
  },
  {
   "cell_type": "markdown",
   "metadata": {
    "colab_type": "text",
    "id": "yX0cLfcHv3rQ"
   },
   "source": [
    "## Modeling"
   ]
  },
  {
   "cell_type": "code",
   "execution_count": 257,
   "metadata": {
    "colab": {},
    "colab_type": "code",
    "id": "Mmjowt2rz3oY"
   },
   "outputs": [],
   "source": [
    "# Shuffling dataset\n",
    "def unison_shuffled_copies(a, b):\n",
    "  assert len(a) == len(b)\n",
    "  p = np.random.permutation(len(a))\n",
    "  return a[p], b[p]\n",
    "np.random.seed(0)\n",
    "train_X, train_y = unison_shuffled_copies(train_X, train_y)\n",
    "test_X, test_y = unison_shuffled_copies(test_X, test_y)"
   ]
  },
  {
   "cell_type": "code",
   "execution_count": 262,
   "metadata": {
    "colab": {
     "base_uri": "https://localhost:8080/",
     "height": 282
    },
    "colab_type": "code",
    "id": "HfJtYYC1iuyV",
    "outputId": "11c8acc6-3582-496a-af99-78b838b7d2c2"
   },
   "outputs": [],
   "source": [
    "# import tensorflow as tf\n",
    "# import matplotlib.pyplot as plt\n",
    "\n",
    "# def pack_row(*row):\n",
    "#   label = row[0]\n",
    "#   features = tf.stack(row[1:],1)\n",
    "#   return features, label\n",
    "\n",
    "# # Packed dataset\n",
    "# BATCHSIZE = 100\n",
    "# train_ds = tf.data.Dataset.from_tensor_slices((train_X.squeeze(), train_y.squeeze())).batch(BATCHSIZE).map(pack_row).unbatch()\n",
    "# test_ds = tf.data.Dataset.from_tensor_slices((test_X, test_y)).batch(BATCHSIZE).map(pack_row).unbatch()\n",
    "\n",
    "# for features,label in train_ds.batch(100).take(1):\n",
    "#   print(features[0])\n",
    "#   plt.hist(label.numpy().flatten(), bins = 101)\n"
   ]
  },
  {
   "cell_type": "markdown",
   "metadata": {
    "colab_type": "text",
    "id": "OzHqQXeYFLBj"
   },
   "source": [
    "Check data balance"
   ]
  },
  {
   "cell_type": "code",
   "execution_count": 261,
   "metadata": {
    "colab": {
     "base_uri": "https://localhost:8080/",
     "height": 428
    },
    "colab_type": "code",
    "id": "YDdfzg74FRLN",
    "outputId": "c0f76e23-e936-446e-bfd5-55bf3c70028e"
   },
   "outputs": [
    {
     "name": "stdout",
     "output_type": "stream",
     "text": [
      "Model: \"sequential_2\"\n",
      "_________________________________________________________________\n",
      "Layer (type)                 Output Shape              Param #   \n",
      "=================================================================\n",
      "bidirectional_2 (Bidirection (None, 20)                960       \n",
      "_________________________________________________________________\n",
      "Dropout (Dropout)            (None, 20)                0         \n",
      "_________________________________________________________________\n",
      "Dense (Dense)                (None, 1)                 21        \n",
      "=================================================================\n",
      "Total params: 981\n",
      "Trainable params: 981\n",
      "Non-trainable params: 0\n",
      "_________________________________________________________________\n",
      "None\n",
      "start training\n",
      "Epoch 1/3\n",
      "1/1 [==============================] - 1s 899ms/step - loss: 0.5208 - accuracy: 0.8750 - val_loss: 0.4370 - val_accuracy: 0.9200\n",
      "Epoch 2/3\n",
      "1/1 [==============================] - 0s 69ms/step - loss: 0.5073 - accuracy: 0.8750 - val_loss: 0.4350 - val_accuracy: 0.9200\n",
      "Epoch 3/3\n",
      "1/1 [==============================] - 0s 62ms/step - loss: 0.5430 - accuracy: 0.8750 - val_loss: 0.4327 - val_accuracy: 0.9200\n"
     ]
    },
    {
     "data": {
      "text/plain": [
       "<tensorflow.python.keras.callbacks.History at 0x1a4a99e4d0>"
      ]
     },
     "execution_count": 261,
     "metadata": {},
     "output_type": "execute_result"
    }
   ],
   "source": [
    "from keras.models import Sequential\n",
    "from keras.layers import Input, LSTM, Dense, Dropout, Bidirectional\n",
    "\n",
    "model = Sequential()\n",
    "model.add(Input(shape=(256,1), name='Input'))\n",
    "model.add(Bidirectional(LSTM(10, kernel_regularizer=\"l1\", name='LSTM-1')))\n",
    "model.add(Dropout(0.25, name='Dropout'))\n",
    "model.add(Dense(1, activation='relu', name='Dense'))\n",
    "model.compile(loss='binary_crossentropy', optimizer='adam', metrics=['accuracy'])\n",
    "print(model.summary())\n",
    "\n",
    "print('start training')\n",
    "model.fit(\n",
    "        train_X, \n",
    "        train_y,\n",
    "        validation_split=0.2, \n",
    "        batch_size=500, \n",
    "        epochs=3,\n",
    "        verbose=1\n",
    "    )"
   ]
  },
  {
   "cell_type": "code",
   "execution_count": 273,
   "metadata": {
    "colab": {},
    "colab_type": "code",
    "id": "jNFf-hFnRVLI"
   },
   "outputs": [
    {
     "name": "stderr",
     "output_type": "stream",
     "text": [
      "/Users/yanxlin/opt/anaconda3/envs/insight/lib/python3.7/site-packages/sklearn/metrics/_ranking.py:808: UndefinedMetricWarning: No positive samples in y_true, true positive value should be meaningless\n",
      "  UndefinedMetricWarning)\n"
     ]
    },
    {
     "data": {
      "text/plain": [
       "[<matplotlib.lines.Line2D at 0x1a4c8c8d90>]"
      ]
     },
     "execution_count": 273,
     "metadata": {},
     "output_type": "execute_result"
    },
    {
     "data": {
      "image/png": "[encoded data removed]",
      "text/plain": [
       "<Figure size 432x288 with 1 Axes>"
      ]
     },
     "metadata": {
      "needs_background": "light"
     },
     "output_type": "display_data"
    }
   ],
   "source": [
    "# Compare ROC curve\n",
    "from sklearn.metrics import roc_curve\n",
    "\n",
    "fpr_keras, tpr_keras, thresholds_keras = roc_curve(test_y, model.predict(test_X).ravel())\n",
    "\n",
    "plt.plot(fpr_keras, tpr_keras)"
   ]
  }
 ],
 "metadata": {
  "colab": {
   "collapsed_sections": [],
   "name": "Seizure-Forecasting-LSTM",
   "provenance": []
  },
  "kernelspec": {
   "display_name": "Python 3",
   "language": "python",
   "name": "python3"
  },
  "language_info": {
   "codemirror_mode": {
    "name": "ipython",
    "version": 3
   },
   "file_extension": ".py",
   "mimetype": "text/x-python",
   "name": "python",
   "nbconvert_exporter": "python",
   "pygments_lexer": "ipython3",
   "version": "3.7.7"
  }
 },
 "nbformat": 4,
 "nbformat_minor": 1
}
