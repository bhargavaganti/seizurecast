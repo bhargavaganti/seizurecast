{
 "cells": [
  {
   "cell_type": "markdown",
   "metadata": {},
   "source": [
    "# Fitting and Evalutating"
   ]
  },
  {
   "cell_type": "code",
   "execution_count": 31,
   "metadata": {},
   "outputs": [],
   "source": [
    "from sklearn import preprocessing\n",
    "from sklearn import metrics\n",
    "from sklearn.metrics import roc_curve, auc\n",
    "from sklearn.model_selection import cross_val_score, train_test_split\n",
    "import pickle\n",
    "import numpy as np\n",
    "\n",
    "with open('tmp/model.pkl', 'rb') as fp:\n",
    "    clf, X, y = pickle.load(fp)\n",
    "\n",
    "# Binarize the label\n",
    "y_b = preprocessing.label_binarize(y, classes=np.unique(y))\n",
    "y_b = np.reshape(y_b, (len(y_b),))\n",
    "\n",
    "# Train test split\n",
    "train_X, test_X, train_y, test_y = train_test_split(X, y_b,\n",
    "    test_size=0.2,\n",
    "    random_state=41)\n",
    "\n",
    "np.shape(train_X), test_X.shape, train_y.shape, test_y.shape\n",
    "\n",
    "from sklearn.preprocessing import StandardScaler  # doctest: +SKIP\n",
    "scaler = StandardScaler()  # doctest: +SKIP\n",
    "# Don't cheat - fit only on training data\n",
    "scaler.fit(train_X)  # doctest: +SKIP\n",
    "train_X_s = scaler.transform(train_X)  # doctest: +SKIP\n",
    "# apply same transformation to test data\n",
    "test_X_s = scaler.transform(test_X)  # doctest: +SKIP"
   ]
  },
  {
   "cell_type": "markdown",
   "metadata": {},
   "source": [
    "## Fit"
   ]
  },
  {
   "cell_type": "code",
   "execution_count": 32,
   "metadata": {
    "scrolled": false
   },
   "outputs": [
    {
     "name": "stdout",
     "output_type": "stream",
     "text": [
      "lda 0.7358490566037735\n",
      "lg 0.8301886792452831\n",
      "rf 0.9371069182389937\n",
      "adb 0.9308176100628931\n",
      "mlp 0.4025157232704403\n"
     ]
    }
   ],
   "source": [
    "scores = {}\n",
    "for k, v in clf.items():\n",
    "    v.fit(train_X, train_y)\n",
    "    scores[k] = v.score(test_X, test_y)\n",
    "    print(k, scores[k])"
   ]
  },
  {
   "cell_type": "markdown",
   "metadata": {},
   "source": [
    "## Evaluate"
   ]
  },
  {
   "cell_type": "code",
   "execution_count": 14,
   "metadata": {
    "scrolled": true
   },
   "outputs": [
    {
     "data": {
      "text/plain": [
       "(array([0.        , 0.04477612, 1.        ]),\n",
       " array([0.        , 0.92391304, 1.        ]),\n",
       " array([2, 1, 0]))"
      ]
     },
     "execution_count": 14,
     "metadata": {},
     "output_type": "execute_result"
    }
   ],
   "source": [
    "# import matplotlib.pyplot as plt\n",
    "# ROC curve\n",
    "# def eval_roc(y_test, y_score):\n",
    "#     \"\"\"\n",
    "#     Args:\n",
    "#         y_test: 2-d np.array\n",
    "#     \"\"\"\n",
    "#     # Compute ROC curve and ROC area for each class\n",
    "#     fpr = dict()\n",
    "#     tpr = dict()\n",
    "#     roc_auc = dict()\n",
    "#     if y_test.ndim == 1:\n",
    "#         l = 0\n",
    "#     else:\n",
    "#         l = y_test.shape[1]\n",
    "#     for i in range(l):\n",
    "#         fpr[i], tpr[i], _ = roc_curve(y_test[:, i], y_score[:, i])\n",
    "#         roc_auc[i] = auc(fpr[i], tpr[i])\n",
    "\n",
    "#     # Compute micro-average ROC curve and ROC area\n",
    "#     fpr[\"micro\"], tpr[\"micro\"], _ = roc_curve(y_test.ravel(), y_score.ravel())\n",
    "#     roc_auc[\"micro\"] = auc(fpr[\"micro\"], tpr[\"micro\"])\n",
    "#     return fpr, tpr, roc_auc\n",
    "\n",
    "# def plot_roc(fpr, tpr, roc_auc, title='Receiver operating characteristic example'):\n",
    "#     \"\"\"ref: https://scikit-learn.org/stable/auto_examples/model_selection/plot_roc.html\"\"\"\n",
    "#     plt.figure()\n",
    "#     lw = 2\n",
    "#     plt.plot(fpr, tpr, color='darkorange',\n",
    "#              lw=lw, label='ROC curve (area = %0.2f)' % roc_auc)\n",
    "#     plt.plot([0, 1], [0, 1], color='navy', lw=lw, linestyle='--')\n",
    "#     plt.xlim([0.0, 1.0])\n",
    "#     plt.ylim([0.0, 1.05])\n",
    "#     plt.xlabel('False Positive Rate')\n",
    "#     plt.ylabel('True Positive Rate')\n",
    "#     plt.title(title)\n",
    "#     plt.legend(loc=\"lower right\")\n",
    "#     plt.show()\n",
    "\n",
    "# for k in clf.keys():\n",
    "#     if k == 'mlp':    \n",
    "#         metrics.plot_roc_curve(clf[k], test_X_s, test_y)\n",
    "#     else:\n",
    "#         metrics.plot_roc_curve(clf[k], test_X, test_y)\n",
    "#     plt.plot([0, 1], [0, 1], color='navy', lw=1, linestyle='--')\n",
    "\n",
    "# roc_curve(test_y, clf['rf'].predict(test_X), pos_label=clf['rf'].classes_[1])\n",
    "# metrics.plot_roc_curve(clf['rf'], test_X, test_y)\n",
    "# plt.plot([0, 1], [0, 1], color='navy', lw=1, linestyle='--')\n",
    "\n",
    "# roc_curve(test_y, clf.decisions(test_X), drop_intermediate=False)\n",
    "# score_y = clf.predict(test_X)\n",
    "# fpr, tpr, roc_auc = eval_roc(test_y, score_y)\n",
    "# fpr, tpr, roc_auc\n",
    "\n",
    "# plot_roc(fpr['micro'], tpr['micro'], roc_auc['micro'])"
   ]
  },
  {
   "cell_type": "code",
   "execution_count": 33,
   "metadata": {},
   "outputs": [
    {
     "name": "stdout",
     "output_type": "stream",
     "text": [
      "Recall \t Base: 1.0 \t Test: 0.92\t Train: 1.0\n",
      "Precis \t Base: 0.58 \t Test: 0.97\t Train: 1.0\n",
      "Roc \t Base: 0.5 \t Test: 0.98\t Train: 1.0\n"
     ]
    }
   ],
   "source": [
    "\n",
    "\n",
    "model = clf['rf']\n",
    "# Training predictions (to demonstrate overfitting)\n",
    "train_rf_predictions = model.predict(train_X)\n",
    "train_rf_probs = model.predict_proba(train_X)[:, 1]\n",
    "\n",
    "# Testing predictions (to determine performance)\n",
    "rf_predictions = model.predict(test_X)\n",
    "rf_probs = model.predict_proba(test_X)[:, 1]\n",
    "\n",
    "\n",
    "base_fpr, base_tpr, model_fpr, model_tpr = evaluate_model(rf_predictions, rf_probs, train_rf_predictions, train_rf_probs, train_y, test_y)\n"
   ]
  },
  {
   "cell_type": "code",
   "execution_count": 34,
   "metadata": {
    "scrolled": true
   },
   "outputs": [
    {
     "ename": "ImportError",
     "evalue": "cannot import name 'plot_roc_curve' from 'plots' (/Users/yanxlin/github/ids/seizurevista/plots.py)",
     "output_type": "error",
     "traceback": [
      "\u001b[0;31m---------------------------------------------------------------------------\u001b[0m",
      "\u001b[0;31mImportError\u001b[0m                               Traceback (most recent call last)",
      "\u001b[0;32m<ipython-input-34-9a871426f91d>\u001b[0m in \u001b[0;36m<module>\u001b[0;34m\u001b[0m\n\u001b[0;32m----> 1\u001b[0;31m \u001b[0;32mfrom\u001b[0m \u001b[0mplots\u001b[0m \u001b[0;32mimport\u001b[0m \u001b[0mplot_roc_curve\u001b[0m\u001b[0;34m\u001b[0m\u001b[0;34m\u001b[0m\u001b[0m\n\u001b[0m\u001b[1;32m      2\u001b[0m \u001b[0;34m\u001b[0m\u001b[0m\n\u001b[1;32m      3\u001b[0m \u001b[0;34m\u001b[0m\u001b[0m\n\u001b[1;32m      4\u001b[0m \u001b[0;34m\u001b[0m\u001b[0m\n\u001b[1;32m      5\u001b[0m \u001b[0;31m# roc_curve(test_y, clf['rf'].predict(test_X), pos_label=clf['rf'].classes_[1])\u001b[0m\u001b[0;34m\u001b[0m\u001b[0;34m\u001b[0m\u001b[0;34m\u001b[0m\u001b[0m\n",
      "\u001b[0;31mImportError\u001b[0m: cannot import name 'plot_roc_curve' from 'plots' (/Users/yanxlin/github/ids/seizurevista/plots.py)"
     ]
    }
   ],
   "source": [
    "# from plots import plot_roc_curve\n",
    "\n",
    "    \n",
    "\n",
    "# roc_curve(test_y, clf['rf'].predict(test_X), pos_label=clf['rf'].classes_[1])"
   ]
  },
  {
   "cell_type": "code",
   "execution_count": 36,
   "metadata": {},
   "outputs": [
    {
     "name": "stdout",
     "output_type": "stream",
     "text": [
      "Confusion matrix, without normalization\n",
      "[[64  3]\n",
      " [ 7 85]]\n"
     ]
    },
    {
     "ename": "NameError",
     "evalue": "name 'np' is not defined",
     "output_type": "error",
     "traceback": [
      "\u001b[0;31m---------------------------------------------------------------------------\u001b[0m",
      "\u001b[0;31mNameError\u001b[0m                                 Traceback (most recent call last)",
      "\u001b[0;32m<ipython-input-36-8d2c7b66a1b7>\u001b[0m in \u001b[0;36m<module>\u001b[0;34m\u001b[0m\n\u001b[1;32m      5\u001b[0m \u001b[0mcm\u001b[0m \u001b[0;34m=\u001b[0m \u001b[0mconfusion_matrix\u001b[0m\u001b[0;34m(\u001b[0m\u001b[0mtest_y\u001b[0m\u001b[0;34m,\u001b[0m \u001b[0mrf_predictions\u001b[0m\u001b[0;34m)\u001b[0m\u001b[0;34m\u001b[0m\u001b[0;34m\u001b[0m\u001b[0m\n\u001b[1;32m      6\u001b[0m plot_confusion_matrix(cm, classes = ['Background', 'Pre-Seizure'],\n\u001b[0;32m----> 7\u001b[0;31m                       title = 'Pre-Seizure Confusion Matrix')\n\u001b[0m",
      "\u001b[0;32m~/github/ids/seizurevista/plots.py\u001b[0m in \u001b[0;36mplot_confusion_matrix\u001b[0;34m(cm, classes, normalize, title, cmap)\u001b[0m\n\u001b[1;32m     38\u001b[0m     \u001b[0mThis\u001b[0m \u001b[0mfunction\u001b[0m \u001b[0mprints\u001b[0m \u001b[0;32mand\u001b[0m \u001b[0mplots\u001b[0m \u001b[0mthe\u001b[0m \u001b[0mconfusion\u001b[0m \u001b[0mmatrix\u001b[0m\u001b[0;34m.\u001b[0m\u001b[0;34m\u001b[0m\u001b[0;34m\u001b[0m\u001b[0m\n\u001b[1;32m     39\u001b[0m     \u001b[0mNormalization\u001b[0m \u001b[0mcan\u001b[0m \u001b[0mbe\u001b[0m \u001b[0mapplied\u001b[0m \u001b[0mby\u001b[0m \u001b[0msetting\u001b[0m\u001b[0;31m \u001b[0m\u001b[0;31m`\u001b[0m\u001b[0mnormalize\u001b[0m\u001b[0;34m=\u001b[0m\u001b[0;32mTrue\u001b[0m\u001b[0;31m`\u001b[0m\u001b[0;34m.\u001b[0m\u001b[0;34m\u001b[0m\u001b[0;34m\u001b[0m\u001b[0m\n\u001b[0;32m---> 40\u001b[0;31m     \u001b[0mSource\u001b[0m\u001b[0;34m:\u001b[0m \u001b[0mhttp\u001b[0m\u001b[0;34m:\u001b[0m\u001b[0;34m//\u001b[0m\u001b[0mscikit\u001b[0m\u001b[0;34m-\u001b[0m\u001b[0mlearn\u001b[0m\u001b[0;34m.\u001b[0m\u001b[0morg\u001b[0m\u001b[0;34m/\u001b[0m\u001b[0mstable\u001b[0m\u001b[0;34m/\u001b[0m\u001b[0mauto_examples\u001b[0m\u001b[0;34m/\u001b[0m\u001b[0mmodel_selection\u001b[0m\u001b[0;34m/\u001b[0m\u001b[0mplot_confusion_matrix\u001b[0m\u001b[0;34m.\u001b[0m\u001b[0mhtml\u001b[0m\u001b[0;34m\u001b[0m\u001b[0;34m\u001b[0m\u001b[0m\n\u001b[0m\u001b[1;32m     41\u001b[0m     \"\"\"\n\u001b[1;32m     42\u001b[0m     \u001b[0;32mif\u001b[0m \u001b[0mnormalize\u001b[0m\u001b[0;34m:\u001b[0m\u001b[0;34m\u001b[0m\u001b[0;34m\u001b[0m\u001b[0m\n",
      "\u001b[0;31mNameError\u001b[0m: name 'np' is not defined"
     ]
    },
    {
     "data": {
      "image/png": "[encoded data removed]",
      "text/plain": [
       "<Figure size 720x720 with 2 Axes>"
      ]
     },
     "metadata": {},
     "output_type": "display_data"
    }
   ],
   "source": [
    "import numpy as np\n",
    "from plots import plot_confusion_matrix\n",
    "from sklearn.metrics import confusion_matrix\n",
    "# Confusion matrix\n",
    "cm = confusion_matrix(test_y, rf_predictions)\n",
    "plot_confusion_matrix(cm, classes = ['Background', 'Pre-Seizure'],\n",
    "                      title = 'Pre-Seizure Confusion Matrix')"
   ]
  },
  {
   "cell_type": "code",
   "execution_count": null,
   "metadata": {},
   "outputs": [],
   "source": [
    "# # presist trained model\n",
    "# import pickle\n",
    "# with open('model.pkl', 'wb') as fp:\n",
    "#     pickle.dump(clf, fp)\n",
    "# with open('model.pkl', 'rb') as fp:\n",
    "#     clf = pickle.load(fp)\n",
    "# # clf.predict(test_X[0, :]), test_y[0]"
   ]
  },
  {
   "cell_type": "code",
   "execution_count": null,
   "metadata": {},
   "outputs": [],
   "source": []
  }
 ],
 "metadata": {
  "kernelspec": {
   "display_name": "Python [conda env:insight] *",
   "language": "python",
   "name": "conda-env-insight-py"
  },
  "language_info": {
   "codemirror_mode": {
    "name": "ipython",
    "version": 3
   },
   "file_extension": ".py",
   "mimetype": "text/x-python",
   "name": "python",
   "nbconvert_exporter": "python",
   "pygments_lexer": "ipython3",
   "version": "3.7.7"
  }
 },
 "nbformat": 4,
 "nbformat_minor": 4
}
