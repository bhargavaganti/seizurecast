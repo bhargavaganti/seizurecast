{
 "cells": [
  {
   "cell_type": "markdown",
   "metadata": {},
   "source": [
    "# General goals\n",
    "1. Reading and loading data\n",
    "```\n",
    "read_edf\n",
    "    Args:\n",
    "        path(str): \n",
    "    Returns:\n",
    "        raw: matrix of (n_channel, n_sample)\n",
    "        sampling_rate(int): in Hz\n",
    "        channel_names: list of channel names\n",
    "\n",
    "\n",
    "\n",
    "segmentize(raw, seg_window=1):\n",
    "    Segmentize raw data into list of epochs.\n",
    "    Args:\n",
    "        raw: (n_channel, n_sample)\n",
    "        seg_window: window size of resulting epoch.\n",
    "```            \n",
    "2. Pre-processing\n",
    "    * segmentation\n",
    "        return data of the same size.\n",
    "        Args: \n",
    "            chunk: \n",
    "For each edf file, we cannot assume the first channel is always the same physical location of electrode. \n",
    "1. Set some standard label and order.\n",
    "Ideally I can use data.frame, however I will first see what format others used. The order can be arbitrary, but I will see what other used first.\n",
    "2. Read edf file and its montage, \n",
    "This can be done using the aforementioned functions from pystream\n",
    "3. Convert edf reading to standard format.\n",
    "This can be done using numpy and panda\n",
    "4. Chop seizure\n",
    "Comparing the sampling rate, time and annotated time, we extract some chunks of seizure signal.\n",
    "5. Chop pre-ictal \n",
    "Chop from 10 to 20 seconds preceding seizures.\n",
    "6. Chop background\n",
    "10 minutes preceding seizures and 10 minutes after seizures. "
   ]
  },
  {
   "cell_type": "markdown",
   "metadata": {},
   "source": [
    "## EDA"
   ]
  },
  {
   "cell_type": "code",
   "execution_count": 1,
   "metadata": {},
   "outputs": [],
   "source": [
    "from file_io import * \n",
    "import os\n",
    "import numpy as np\n",
    "import pandas as pd\n",
    "import mne\n",
    "import matplotlib.pyplot as plt"
   ]
  },
  {
   "cell_type": "code",
   "execution_count": 2,
   "metadata": {},
   "outputs": [],
   "source": [
    "# relabeling config\n",
    "LEN_PRE = 15\n",
    "LEN_POS = 60\n",
    "SEC_GAP = 0"
   ]
  },
  {
   "cell_type": "code",
   "execution_count": 3,
   "metadata": {},
   "outputs": [],
   "source": [
    "train_path = '../tusz_1_5_2/edf/train'\n",
    "tcp_type = '01_tcp_ar'\n",
    "patient_group = '004'\n",
    "patient = '00000492'\n",
    "session = 's003_2003_07_18'\n",
    "token = '00000492_s003_t001'"
   ]
  },
  {
   "cell_type": "code",
   "execution_count": 38,
   "metadata": {},
   "outputs": [
    {
     "data": {
      "text/html": [
       "<div>\n",
       "<style scoped>\n",
       "    .dataframe tbody tr th:only-of-type {\n",
       "        vertical-align: middle;\n",
       "    }\n",
       "\n",
       "    .dataframe tbody tr th {\n",
       "        vertical-align: top;\n",
       "    }\n",
       "\n",
       "    .dataframe thead th {\n",
       "        text-align: right;\n",
       "    }\n",
       "</style>\n",
       "<table border=\"1\" class=\"dataframe\">\n",
       "  <thead>\n",
       "    <tr style=\"text-align: right;\">\n",
       "      <th></th>\n",
       "      <th>path0</th>\n",
       "      <th>path1</th>\n",
       "      <th>path2</th>\n",
       "      <th>path3</th>\n",
       "      <th>tcp_type</th>\n",
       "      <th>patient_group</th>\n",
       "      <th>patient</th>\n",
       "      <th>session</th>\n",
       "      <th>token</th>\n",
       "      <th>token_path</th>\n",
       "    </tr>\n",
       "  </thead>\n",
       "  <tbody>\n",
       "    <tr>\n",
       "      <th>0</th>\n",
       "      <td>..</td>\n",
       "      <td>tusz_1_5_2</td>\n",
       "      <td>edf</td>\n",
       "      <td>train</td>\n",
       "      <td>01_tcp_ar</td>\n",
       "      <td>104</td>\n",
       "      <td>00010435</td>\n",
       "      <td>s001_2013_06_19</td>\n",
       "      <td>00010435_s001_t000</td>\n",
       "      <td>../tusz_1_5_2/edf/train/01_tcp_ar/104/00010435...</td>\n",
       "    </tr>\n",
       "    <tr>\n",
       "      <th>1</th>\n",
       "      <td>..</td>\n",
       "      <td>tusz_1_5_2</td>\n",
       "      <td>edf</td>\n",
       "      <td>train</td>\n",
       "      <td>01_tcp_ar</td>\n",
       "      <td>104</td>\n",
       "      <td>00010461</td>\n",
       "      <td>s001_2013_06_21</td>\n",
       "      <td>00010461_s001_t000</td>\n",
       "      <td>../tusz_1_5_2/edf/train/01_tcp_ar/104/00010461...</td>\n",
       "    </tr>\n",
       "    <tr>\n",
       "      <th>2</th>\n",
       "      <td>..</td>\n",
       "      <td>tusz_1_5_2</td>\n",
       "      <td>edf</td>\n",
       "      <td>train</td>\n",
       "      <td>01_tcp_ar</td>\n",
       "      <td>104</td>\n",
       "      <td>00010450</td>\n",
       "      <td>s001_2013_06_19</td>\n",
       "      <td>00010450_s001_t000</td>\n",
       "      <td>../tusz_1_5_2/edf/train/01_tcp_ar/104/00010450...</td>\n",
       "    </tr>\n",
       "    <tr>\n",
       "      <th>3</th>\n",
       "      <td>..</td>\n",
       "      <td>tusz_1_5_2</td>\n",
       "      <td>edf</td>\n",
       "      <td>train</td>\n",
       "      <td>01_tcp_ar</td>\n",
       "      <td>104</td>\n",
       "      <td>00010450</td>\n",
       "      <td>s001_2013_06_19</td>\n",
       "      <td>00010450_s001_t001</td>\n",
       "      <td>../tusz_1_5_2/edf/train/01_tcp_ar/104/00010450...</td>\n",
       "    </tr>\n",
       "    <tr>\n",
       "      <th>4</th>\n",
       "      <td>..</td>\n",
       "      <td>tusz_1_5_2</td>\n",
       "      <td>edf</td>\n",
       "      <td>train</td>\n",
       "      <td>01_tcp_ar</td>\n",
       "      <td>104</td>\n",
       "      <td>00010489</td>\n",
       "      <td>s005_2013_07_10</td>\n",
       "      <td>00010489_s005_t006</td>\n",
       "      <td>../tusz_1_5_2/edf/train/01_tcp_ar/104/00010489...</td>\n",
       "    </tr>\n",
       "  </tbody>\n",
       "</table>\n",
       "</div>"
      ],
      "text/plain": [
       "  path0       path1 path2  path3   tcp_type patient_group   patient  \\\n",
       "0    ..  tusz_1_5_2   edf  train  01_tcp_ar           104  00010435   \n",
       "1    ..  tusz_1_5_2   edf  train  01_tcp_ar           104  00010461   \n",
       "2    ..  tusz_1_5_2   edf  train  01_tcp_ar           104  00010450   \n",
       "3    ..  tusz_1_5_2   edf  train  01_tcp_ar           104  00010450   \n",
       "4    ..  tusz_1_5_2   edf  train  01_tcp_ar           104  00010489   \n",
       "\n",
       "           session               token  \\\n",
       "0  s001_2013_06_19  00010435_s001_t000   \n",
       "1  s001_2013_06_21  00010461_s001_t000   \n",
       "2  s001_2013_06_19  00010450_s001_t000   \n",
       "3  s001_2013_06_19  00010450_s001_t001   \n",
       "4  s005_2013_07_10  00010489_s005_t006   \n",
       "\n",
       "                                          token_path  \n",
       "0  ../tusz_1_5_2/edf/train/01_tcp_ar/104/00010435...  \n",
       "1  ../tusz_1_5_2/edf/train/01_tcp_ar/104/00010461...  \n",
       "2  ../tusz_1_5_2/edf/train/01_tcp_ar/104/00010450...  \n",
       "3  ../tusz_1_5_2/edf/train/01_tcp_ar/104/00010450...  \n",
       "4  ../tusz_1_5_2/edf/train/01_tcp_ar/104/00010489...  "
      ]
     },
     "execution_count": 38,
     "metadata": {},
     "output_type": "execute_result"
    }
   ],
   "source": [
    "from file_io import get_all_edfs\n",
    "edfs = get_all_edfs()\n",
    "edfs.head()"
   ]
  },
  {
   "cell_type": "markdown",
   "metadata": {},
   "source": [
    "## Conclusion: Pre process"
   ]
  },
  {
   "cell_type": "code",
   "execution_count": 5,
   "metadata": {
    "scrolled": true
   },
   "outputs": [
    {
     "data": {
      "text/plain": [
       "'Test preprocess'"
      ]
     },
     "execution_count": 5,
     "metadata": {},
     "output_type": "execute_result"
    }
   ],
   "source": [
    "\"\"\"Test preprocess\"\"\"\n",
    "# #TODO: update file_io.py\n",
    "# from preprocess import preprocess\n",
    "\n",
    "# def test_preprocess(token_path):\n",
    "#     # Test\n",
    "#     f, s, l = read_1_token(token_path)\n",
    "#     s = preprocess(s, SAMPLING_RATE/np.mean(f))\n",
    "#     pd.DataFrame(s.transpose(), columns=['ch'+str(i) for i in range(0, len(s))]).plot()\n",
    "    \n",
    "\n",
    "# SAMPLING_RATE = 256\n",
    "# test_preprocess(edfs['token_path'][0])\n",
    "# # edfs.head()\n",
    "\n"
   ]
  },
  {
   "cell_type": "markdown",
   "metadata": {},
   "source": [
    "## Labeling "
   ]
  },
  {
   "cell_type": "code",
   "execution_count": 22,
   "metadata": {},
   "outputs": [
    {
     "data": {
      "text/plain": [
       "((32705, 8, 256), (32705,))"
      ]
     },
     "execution_count": 22,
     "metadata": {},
     "output_type": "execute_result"
    }
   ],
   "source": [
    "# def get_1_session_tokens():\n",
    "#     train_path = '../tusz_1_5_2/edf/train'\n",
    "#     tcp_type = '01_tcp_ar'\n",
    "#     patient_group = '004'\n",
    "#     patient = '00000492'\n",
    "#     session = 's003_2003_07_18'\n",
    "#     token = '00000492_s003_t001'\n",
    "\n",
    "#     session_path = os.path.join(train_path, tcp_type, patient_group, patient, session)\n",
    "\n",
    "#     token_files = [os.path.join(session_path, f[:-4]) for f in os.listdir(\n",
    "#         session_path) if f.endswith('.edf')]\n",
    "    \n",
    "#     return token_files\n",
    "\n",
    "\"\"\"Load 50 datasets ~2 MIN\"\"\"\n",
    "from file_io import dataset_from_many_edfs\n",
    "\n",
    "# relabeling config\n",
    "LEN_PRE = 300  # 5 minutes pre\n",
    "LEN_POS = 600\n",
    "SEC_GAP = 600  # 10 minutes gap\n",
    "SAMPLING_RATE = 256\n",
    "\n",
    "token_paths = edfs.sample(50, random_state=0)['token_path'].to_numpy()\n",
    "dataset, labels = dataset_from_many_edfs(token_paths, \n",
    "                                         len_pre=LEN_PRE, len_post=LEN_POS, sec_gap=SEC_GAP, fsamp=SAMPLING_RATE)\n",
    "# dataset, labels = dataset_from_many_edfs(get_1_session_tokens()[0:5])\n",
    "np.shape(dataset), np.shape(labels)\n"
   ]
  },
  {
   "cell_type": "code",
   "execution_count": 23,
   "metadata": {},
   "outputs": [],
   "source": [
    "\"\"\"Load pre-cached dataset\"\"\"\n",
    "import pickle\n",
    "if False:\n",
    "    pass\n",
    "# if os.path.isfile('tmp/ds.pkl'):\n",
    "#     with open('tmp/ds.pkl', 'rb') as fp:\n",
    "#         dataset, labels = pickle.load(fp)\n",
    "else:\n",
    "    with open('tmp/ds10min.pkl', 'wb') as fp:\n",
    "        pickle.dump((dataset, labels), fp)"
   ]
  },
  {
   "cell_type": "markdown",
   "metadata": {},
   "source": [
    "## Balance Data"
   ]
  },
  {
   "cell_type": "code",
   "execution_count": 26,
   "metadata": {},
   "outputs": [],
   "source": [
    "# from dataset_funcs import dataset_to_df\n",
    "\n",
    "# df = dataset_to_df(dataset, labels)\n",
    "# df.head()\n",
    "# df['labels'].value_counts()"
   ]
  },
  {
   "cell_type": "code",
   "execution_count": 25,
   "metadata": {},
   "outputs": [
    {
     "data": {
      "text/plain": [
       "((1985, 8, 256), (1985,))"
      ]
     },
     "execution_count": 25,
     "metadata": {},
     "output_type": "execute_result"
    }
   ],
   "source": [
    "from dataset_funcs import balance_ds\n",
    "\n",
    "np.random.seed(100)\n",
    "dataset, labels = balance_ds(dataset, labels)\n",
    "dataset.shape, labels.shape"
   ]
  },
  {
   "cell_type": "markdown",
   "metadata": {},
   "source": [
    "## Visualize sample EEG traces"
   ]
  },
  {
   "cell_type": "code",
   "execution_count": 10,
   "metadata": {},
   "outputs": [],
   "source": [
    "def peek_time_series(dataset, labels):\n",
    "    find_label = lambda l, v: [i for i,x in enumerate(l) if x==v]\n",
    "\n",
    "    _, axes = plt.subplots(nrows=1, ncols=4, figsize=(12,3), sharey=True)\n",
    "\n",
    "    ishows = [find_label(labels, lbl)[1]-1 for lbl in [LABEL_BKG, LABEL_PRE, LABEL_SEZ, LABEL_POS]]\n",
    "\n",
    "    for i, ax in enumerate(axes.flat):\n",
    "        pd.DataFrame(np.transpose(dataset[ishows[i]])).plot(ax=ax, legend=False)\n",
    "        ax.set_title(labels[ishows[i]])\n",
    "\n",
    "# peek_time_series(dataset, labels)"
   ]
  },
  {
   "cell_type": "markdown",
   "metadata": {},
   "source": [
    "# Features"
   ]
  },
  {
   "cell_type": "code",
   "execution_count": 11,
   "metadata": {},
   "outputs": [],
   "source": [
    "# import feature as ft\n",
    "# import seaborn as sb\n",
    "\n",
    "\n",
    "# # def explore1D(new_ds, title=''):\n",
    "# #     sb.stripplot(x='x', y='y', data=pd.DataFrame().assign(x=new_ds, y=labels))\n",
    "# #     plt.title(title)\n",
    "    \n",
    "    \n"
   ]
  },
  {
   "cell_type": "code",
   "execution_count": 27,
   "metadata": {},
   "outputs": [
    {
     "data": {
      "text/plain": [
       "(1985, 8, 44)"
      ]
     },
     "execution_count": 27,
     "metadata": {},
     "output_type": "execute_result"
    }
   ],
   "source": [
    "from dataset_funcs import get_power\n",
    "\n",
    "dataset_power = get_power(dataset, fsamp = 256)\n",
    "np.shape(dataset_power)   "
   ]
  },
  {
   "cell_type": "markdown",
   "metadata": {},
   "source": [
    "#### Plot: power spec"
   ]
  },
  {
   "cell_type": "code",
   "execution_count": 13,
   "metadata": {},
   "outputs": [],
   "source": [
    "locate = lambda listOfElems, elem: [ i for i in range(len(listOfElems)) if listOfElems[i] == elem ]\n",
    "\"\"\"Return all the indexed of an element in a list\"\"\"\n",
    "\n",
    "def explore2D(ds, labels, title=''):\n",
    "    \"\"\"\n",
    "    ds: nepochs x nchannels x nsamples\n",
    "    \"\"\"\n",
    "    arranges = (LABEL_BKG, LABEL_PRE)\n",
    "    nrows, ncols = len(arranges), len(ds[0])\n",
    "    \n",
    "    _, axes = plt.subplots(nrows=nrows, ncols=ncols, figsize=(3*ncols, 3*nrows))\n",
    "    for i, epoch in enumerate(ds):\n",
    "        ir = arranges.index(labels[i])\n",
    "        for ic, channel in enumerate(epoch):\n",
    "            axes[ir][ic].plot(channel)\n",
    "\n",
    "def peek_powerspec(dataset_power, labels): \n",
    "    ds_pwd = np.array(dataset_power)\n",
    "\n",
    "#     ds_bkg, ds_pre, ds_sez, ds_pos = [], [], [], []\n",
    "    ds_bkg = ds_pwd[locate(labels, LABEL_BKG),:,:]\n",
    "    ds_pre = ds_pwd[locate(labels, LABEL_PRE),:,:]\n",
    "\n",
    "    np.random.seed(0)\n",
    "    rnd_indices = np.random.choice(np.shape(ds_bkg)[0], size=100)\n",
    "    rnd_indices2 = np.random.choice(np.shape(ds_pre)[0], size=100)\n",
    "\n",
    "    explore2D(np.concatenate((ds_bkg[rnd_indices], ds_pre[rnd_indices2])), labels=[LABEL_BKG]*100+[LABEL_PRE]*100)\n",
    "\n",
    "# peek_powerspec(dataset_power, labels)"
   ]
  },
  {
   "cell_type": "markdown",
   "metadata": {},
   "source": [
    "Looks like we can use the powers of 22 channels to differentiate PRE vs BKG. \n",
    "We can compute the AUC to represent the average power. Or, compute the average frequency."
   ]
  },
  {
   "cell_type": "markdown",
   "metadata": {},
   "source": [
    "### compute the power of each channel.\n"
   ]
  },
  {
   "cell_type": "code",
   "execution_count": 29,
   "metadata": {},
   "outputs": [],
   "source": [
    "from dataset_funcs import get_power_freq\n",
    "from utils import dataset2Xy\n",
    "\n",
    "\n",
    "def calculate_power(dataset_power, labels, id_filtered):\n",
    "    ds_pwd = get_power_freq(dataset_power)\n",
    "    X, y = dataset2Xy(ds_pwd, labels)\n",
    "    return X[id_filtered, :], y[id_filtered]\n",
    "\n",
    "\n",
    "id_bkg_pre = [any([yi == lbl for lbl in [LABEL_BKG, LABEL_PRE]]) for yi in labels]\n",
    "# id_pre = [any([yi == lbl for lbl in [LABEL_PRE]]) for yi in labels]\n",
    "# id_bkg = [any([yi == lbl for lbl in [LABEL_BKG]]) for yi in labels]\n",
    "X, y = calculate_power(dataset_power, labels, id_bkg_pre)"
   ]
  },
  {
   "cell_type": "markdown",
   "metadata": {},
   "source": [
    "#### profiling"
   ]
  },
  {
   "cell_type": "code",
   "execution_count": 17,
   "metadata": {},
   "outputs": [],
   "source": [
    "from pandas_profiling import ProfileReport\n",
    "profile = ProfileReport(pd.DataFrame(X).assign(labels=y), minimal=False, explorative=True)\n",
    "\n",
    "# profile.to_notebook_iframe()"
   ]
  },
  {
   "cell_type": "markdown",
   "metadata": {},
   "source": [
    "Outliers are there and need to remove"
   ]
  },
  {
   "cell_type": "markdown",
   "metadata": {},
   "source": [
    "# Model Selection"
   ]
  },
  {
   "cell_type": "code",
   "execution_count": 30,
   "metadata": {},
   "outputs": [],
   "source": [
    "from sklearn import preprocessing\n",
    "from sklearn import metrics\n",
    "from sklearn.metrics import roc_curve, auc\n",
    "from sklearn.model_selection import cross_val_score, train_test_split\n",
    "from sklearn.datasets import make_blobs\n",
    "from sklearn.linear_model import LogisticRegression\n"
   ]
  },
  {
   "cell_type": "code",
   "execution_count": 31,
   "metadata": {},
   "outputs": [
    {
     "data": {
      "text/plain": [
       "((635, 16), (159, 16), (635,), (159,))"
      ]
     },
     "execution_count": 31,
     "metadata": {},
     "output_type": "execute_result"
    }
   ],
   "source": [
    "# Binarize the label\n",
    "y_b = preprocessing.label_binarize(y, classes=[LABEL_BKG, LABEL_PRE])\n",
    "y_b = np.reshape(y_b, (len(y_b),))\n",
    "\n",
    "# Train test split\n",
    "train_X, test_X, train_y, test_y = train_test_split(X, y_b,\n",
    "    test_size=0.2,\n",
    "    random_state=41)\n",
    "\n",
    "np.shape(train_X), test_X.shape, train_y.shape, test_y.shape"
   ]
  },
  {
   "cell_type": "markdown",
   "metadata": {},
   "source": [
    "## Cross validation"
   ]
  },
  {
   "cell_type": "code",
   "execution_count": 32,
   "metadata": {},
   "outputs": [
    {
     "data": {
      "text/plain": [
       "array([0.68503937, 0.7480315 , 0.72440945, 0.74015748, 0.75590551])"
      ]
     },
     "execution_count": 32,
     "metadata": {},
     "output_type": "execute_result"
    }
   ],
   "source": [
    "clf = {}\n",
    "\n",
    "# Linear Model\n",
    "from sklearn.discriminant_analysis import LinearDiscriminantAnalysis\n",
    "clf['lda'] = LinearDiscriminantAnalysis(solver='lsqr', shrinkage='auto')\n",
    "cross_val_score(clf['lda'], train_X, train_y, cv=5)"
   ]
  },
  {
   "cell_type": "code",
   "execution_count": 33,
   "metadata": {},
   "outputs": [
    {
     "data": {
      "text/plain": [
       "array([0.77165354, 0.82677165, 0.83464567, 0.84251969, 0.77165354])"
      ]
     },
     "execution_count": 33,
     "metadata": {},
     "output_type": "execute_result"
    }
   ],
   "source": [
    "clf['lg'] = LogisticRegression(random_state=0, max_iter=2000)\n",
    "cross_val_score(clf['lg'], train_X, train_y, cv=5)"
   ]
  },
  {
   "cell_type": "code",
   "execution_count": 34,
   "metadata": {},
   "outputs": [
    {
     "data": {
      "text/plain": [
       "array([0.92125984, 0.92913386, 0.96062992, 0.94488189, 0.90551181])"
      ]
     },
     "execution_count": 34,
     "metadata": {},
     "output_type": "execute_result"
    }
   ],
   "source": [
    "from sklearn.ensemble import RandomForestClassifier\n",
    "clf['rf'] = RandomForestClassifier(n_estimators=40, max_depth=None,\n",
    "    min_samples_split=3, random_state=0)\n",
    "cross_val_score(clf['rf'], train_X, train_y, cv=5)"
   ]
  },
  {
   "cell_type": "code",
   "execution_count": 35,
   "metadata": {},
   "outputs": [
    {
     "data": {
      "text/plain": [
       "array([0.86614173, 0.90551181, 0.92913386, 0.8976378 , 0.85826772])"
      ]
     },
     "execution_count": 35,
     "metadata": {},
     "output_type": "execute_result"
    }
   ],
   "source": [
    "from sklearn.ensemble import AdaBoostClassifier\n",
    "clf['adb'] = AdaBoostClassifier(n_estimators=100, random_state=0)\n",
    "cross_val_score(clf['adb'], train_X, train_y, cv=5)"
   ]
  },
  {
   "cell_type": "code",
   "execution_count": 36,
   "metadata": {},
   "outputs": [
    {
     "data": {
      "text/plain": [
       "array([0.83464567, 0.81102362, 0.80314961, 0.77952756, 0.78740157])"
      ]
     },
     "execution_count": 36,
     "metadata": {},
     "output_type": "execute_result"
    }
   ],
   "source": [
    "from sklearn.neural_network import MLPClassifier\n",
    "from sklearn.preprocessing import StandardScaler  # doctest: +SKIP\n",
    "scaler = StandardScaler()  # doctest: +SKIP\n",
    "# Don't cheat - fit only on training data\n",
    "scaler.fit(train_X)  # doctest: +SKIP\n",
    "train_X_s = scaler.transform(train_X)  # doctest: +SKIP\n",
    "# apply same transformation to test data\n",
    "test_X_s = scaler.transform(test_X)  # doctest: +SKIP\n",
    "\n",
    "clf['mlp'] = MLPClassifier(solver='lbfgs', alpha=1e0, hidden_layer_sizes=(10, 5), max_iter=10000, random_state=1)\n",
    "cross_val_score(clf['mlp'], train_X_s, train_y, cv=5)"
   ]
  },
  {
   "cell_type": "code",
   "execution_count": 37,
   "metadata": {},
   "outputs": [],
   "source": [
    "# # Export the clf for evaluation\n",
    "# with open('tmp/model.pkl', 'wb') as fp:\n",
    "#     pickle.dump((clf, X, y), fp)"
   ]
  },
  {
   "cell_type": "markdown",
   "metadata": {},
   "source": []
  },
  {
   "cell_type": "markdown",
   "metadata": {},
   "source": []
  },
  {
   "cell_type": "markdown",
   "metadata": {},
   "source": []
  },
  {
   "cell_type": "markdown",
   "metadata": {},
   "source": []
  },
  {
   "cell_type": "markdown",
   "metadata": {},
   "source": [
    "## save a couple txt files for demo"
   ]
  },
  {
   "cell_type": "code",
   "execution_count": 39,
   "metadata": {},
   "outputs": [],
   "source": [
    "import pickle\n",
    "with open('model.pkl', 'rb') as fp:\n",
    "    clf = pickle.load(fp)\n",
    "\n",
    "# load dataset\n",
    "import pickle\n",
    "with open('tmp/ds10min.pkl', 'rb') as fp:\n",
    "    dataset, labels = pickle.load(fp)\n",
    "np.shape(dataset)"
   ]
  },
  {
   "cell_type": "code",
   "execution_count": 84,
   "metadata": {},
   "outputs": [
    {
     "data": {
      "text/plain": [
       "(50688, 8)"
      ]
     },
     "execution_count": 84,
     "metadata": {},
     "output_type": "execute_result"
    }
   ],
   "source": [
    "ds, y = dataset, labels\n",
    "id_pre = np.array([yi for yi in range(0, len(y)) if any([y[yi] == lbl for lbl in [LABEL_PRE]])])\n",
    "id_bkg = np.array([yi for yi in range(0, len(y)) if any([y[yi] == lbl for lbl in [LABEL_BKG]])])\n",
    "eval_X_pre = [ds[i] for i in np.random.choice(id_pre, size=100)]\n",
    "eval_X_bkg = [ds[i] for i in np.random.choice(id_bkg, size=100)]\n",
    "ds = []\n",
    "with open('./data/svdemo-3bkg-3pre-3bkg-3pre.txt', 'wb') as fp:\n",
    "    for i in range(0, len(eval_X_pre)+len(eval_X_bkg)-2):\n",
    "        if i//3%2 == 0:\n",
    "            ds.extend(np.transpose(eval_X_bkg.pop()))\n",
    "        else:\n",
    "            ds.extend(np.transpose(eval_X_pre.pop()))\n",
    "    \n",
    "    # Must be saved as nchannel x nsample\n",
    "    np.savetxt(fp, np.transpose(ds), delimiter=',')\n"
   ]
  },
  {
   "cell_type": "code",
   "execution_count": 41,
   "metadata": {},
   "outputs": [
    {
     "data": {
      "text/plain": [
       "((1572427, 16), (1572427,))"
      ]
     },
     "execution_count": 41,
     "metadata": {},
     "output_type": "execute_result"
    }
   ],
   "source": [
    "# np.shape(X), np.shape(y)"
   ]
  },
  {
   "cell_type": "code",
   "execution_count": 74,
   "metadata": {},
   "outputs": [
    {
     "data": {
      "text/plain": [
       "array([0, 0, 1, 1, 1, 0, 0, 0, 0, 1, 1, 1, 0, 0, 1, 1, 1, 1, 0, 0, 0, 0,\n",
       "       1, 1, 0, 0, 0, 1, 0, 0, 0, 0, 0, 1, 1, 1, 0, 0, 0, 1, 1, 1, 0, 0,\n",
       "       0, 1, 1, 1, 0, 0, 0, 1, 1, 1, 0, 0, 0, 1, 1, 1, 0, 0, 1, 1, 1, 1,\n",
       "       0, 1, 0, 1, 1, 1, 0, 0, 0, 1, 1, 1, 0, 0, 0, 1, 1, 1, 1, 0, 0, 1,\n",
       "       1, 1, 0, 0, 1, 1, 0, 1, 0, 0, 1, 0, 1, 1, 0, 0, 0, 1, 1, 0, 1, 1,\n",
       "       0, 1, 1, 1, 0, 0, 0, 1, 1, 1, 1, 0, 0, 1, 1, 1, 1, 1, 1, 1, 1, 1,\n",
       "       0, 1, 0, 1, 1, 1, 0, 0, 0, 1, 1, 1, 0, 0, 0, 1, 1, 1, 0, 0, 0, 1,\n",
       "       1, 1, 0, 0, 0, 1, 1, 1, 0, 1, 0, 1, 1, 1, 0, 0, 0, 0, 1, 1, 0, 0,\n",
       "       0, 0, 1, 1, 0, 0, 0, 1, 1, 0, 0, 0, 0, 1, 1, 1, 0, 0, 0, 1, 1, 1])"
      ]
     },
     "execution_count": 74,
     "metadata": {},
     "output_type": "execute_result"
    }
   ],
   "source": [
    "# id_pre = np.array([yi for yi in range(0, len(y)) if any([y[yi] == lbl for lbl in [LABEL_PRE]])])\n",
    "# id_bkg = np.array([yi for yi in range(0, len(y)) if any([y[yi] == lbl for lbl in [LABEL_BKG]])])\n",
    "\n",
    "\n",
    "# eval_X_pre = [X[i] for i in np.random.choice(id_pre, size=100)]\n",
    "# eval_X_bkg = [X[i] for i in np.random.choice(id_bkg, size=100)]\n",
    "\n",
    "# clf.predict(np.concatenate([eval_X_pre, eval_X_bkg]))\n",
    "\n",
    "# ds = []\n",
    "# with open('./data/svdemo-3bkg-3pre-3bkg-3pre.txt', 'wb') as fp:\n",
    "#     for i in range(0, len(eval_X_pre)+len(eval_X_bkg)-2):\n",
    "#         if i//3%2 == 0:\n",
    "#             ds.append(eval_X_bkg.pop())\n",
    "#         else:\n",
    "#             ds.append(eval_X_pre.pop())\n",
    "#     np.savetxt(fp, ds, delimiter=',')\n",
    "# clf.predict(ds)\n"
   ]
  },
  {
   "cell_type": "code",
   "execution_count": 87,
   "metadata": {},
   "outputs": [
    {
     "ename": "AttributeError",
     "evalue": "module 'dataset_funcs' has no attribute 'bin_power_avg'",
     "output_type": "error",
     "traceback": [
      "\u001b[0;31m---------------------------------------------------------------------------\u001b[0m",
      "\u001b[0;31mAttributeError\u001b[0m                            Traceback (most recent call last)",
      "\u001b[0;32m<ipython-input-87-907798fadd8e>\u001b[0m in \u001b[0;36m<module>\u001b[0;34m\u001b[0m\n\u001b[1;32m      1\u001b[0m \u001b[0;32mimport\u001b[0m \u001b[0mdataset_funcs\u001b[0m\u001b[0;34m\u001b[0m\u001b[0;34m\u001b[0m\u001b[0m\n\u001b[0;32m----> 2\u001b[0;31m \u001b[0mx\u001b[0m \u001b[0;34m=\u001b[0m \u001b[0mdataset_funcs\u001b[0m\u001b[0;34m.\u001b[0m\u001b[0mbin_power_avg\u001b[0m\u001b[0;34m(\u001b[0m\u001b[0;34m[\u001b[0m\u001b[0mnp\u001b[0m\u001b[0;34m.\u001b[0m\u001b[0mloadtxt\u001b[0m\u001b[0;34m(\u001b[0m\u001b[0;34m'./data/svdemo-3bkg-3pre-3bkg-3pre.txt'\u001b[0m\u001b[0;34m,\u001b[0m \u001b[0mdelimiter\u001b[0m\u001b[0;34m=\u001b[0m\u001b[0;34m','\u001b[0m\u001b[0;34m)\u001b[0m\u001b[0;34m]\u001b[0m\u001b[0;34m,\u001b[0m \u001b[0;36m256\u001b[0m\u001b[0;34m)\u001b[0m\u001b[0;34m\u001b[0m\u001b[0;34m\u001b[0m\u001b[0m\n\u001b[0m\u001b[1;32m      3\u001b[0m \u001b[0mclf\u001b[0m\u001b[0;34m.\u001b[0m\u001b[0mpredict\u001b[0m\u001b[0;34m(\u001b[0m\u001b[0mx\u001b[0m\u001b[0;34m)\u001b[0m\u001b[0;34m\u001b[0m\u001b[0;34m\u001b[0m\u001b[0m\n",
      "\u001b[0;31mAttributeError\u001b[0m: module 'dataset_funcs' has no attribute 'bin_power_avg'"
     ]
    }
   ],
   "source": [
    "import dataset_funcs\n",
    "x = dataset_funcs.bin_power_avg([np.loadtxt('./data/svdemo-3bkg-3pre-3bkg-3pre.txt', delimiter=',')], 256)\n",
    "clf.predict(x)"
   ]
  },
  {
   "cell_type": "code",
   "execution_count": 201,
   "metadata": {},
   "outputs": [
    {
     "data": {
      "text/plain": [
       "(2013, 22, 400)"
      ]
     },
     "execution_count": 201,
     "metadata": {},
     "output_type": "execute_result"
    }
   ],
   "source": [
    "# np.shape(np.array(dataset))"
   ]
  },
  {
   "cell_type": "code",
   "execution_count": null,
   "metadata": {},
   "outputs": [],
   "source": []
  },
  {
   "cell_type": "markdown",
   "metadata": {},
   "source": [
    "## Try MNE\n",
    "https://cbrnr.github.io/2017/10/23/loading-eeg-data/\n"
   ]
  },
  {
   "cell_type": "code",
   "execution_count": 44,
   "metadata": {},
   "outputs": [
    {
     "data": {
      "text/plain": [
       "'0.20.5'"
      ]
     },
     "execution_count": 44,
     "metadata": {},
     "output_type": "execute_result"
    }
   ],
   "source": [
    "import mne\n",
    "import os\n",
    "mne.__version__"
   ]
  },
  {
   "cell_type": "code",
   "execution_count": 49,
   "metadata": {},
   "outputs": [
    {
     "name": "stdout",
     "output_type": "stream",
     "text": [
      "Extracting EDF parameters from /Users/yanxlin/github/ids/tusz_1_5_2/edf/train/01_tcp_ar/023/00002348/s008_2015_07_21/00002348_s008_t000.edf...\n",
      "EDF file detected\n",
      "Setting channel info structure...\n",
      "Creating raw.info structure...\n"
     ]
    }
   ],
   "source": [
    "train_path = '../tusz_1_5_2/edf/train'\n",
    "tcp_type = '01_tcp_ar'\n",
    "patient_group = '023'\n",
    "patient = '00002348'\n",
    "session = 's008_2015_07_21'\n",
    "token = '00002348_s008_t000'\n",
    "token_path = os.path.join(train_path, tcp_type, patient_group, patient, session, token)\n",
    "raw = mne.io.read_raw_edf(token_path+'.edf', preload=False)"
   ]
  },
  {
   "cell_type": "code",
   "execution_count": 47,
   "metadata": {},
   "outputs": [
    {
     "data": {
      "text/plain": [
       "<Info | 7 non-empty values\n",
       " bads: []\n",
       " ch_names: EEG FP1-REF, EEG FP2-REF, EEG F3-REF, EEG F4-REF, EEG C3-REF, ...\n",
       " chs: 29 EEG\n",
       " custom_ref_applied: False\n",
       " highpass: 0.0 Hz\n",
       " lowpass: 128.0 Hz\n",
       " meas_date: 2015-07-21 10:26:07 UTC\n",
       " nchan: 29\n",
       " projs: []\n",
       " sfreq: 256.0 Hz\n",
       ">"
      ]
     },
     "execution_count": 47,
     "metadata": {},
     "output_type": "execute_result"
    }
   ],
   "source": [
    "raw.info"
   ]
  },
  {
   "cell_type": "code",
   "execution_count": 48,
   "metadata": {},
   "outputs": [
    {
     "data": {
      "image/png": "[encoded data removed]",
      "text/plain": [
       "<Figure size 432x288 with 4 Axes>"
      ]
     },
     "metadata": {},
     "output_type": "display_data"
    }
   ],
   "source": [
    "raw.plot(duration=200, n_channels=10, scalings=dict(eeg=20e-5), show_scrollbars=False)\n",
    "plt.close()"
   ]
  }
 ],
 "metadata": {
  "kernelspec": {
   "display_name": "Python [conda env:insight] *",
   "language": "python",
   "name": "conda-env-insight-py"
  },
  "language_info": {
   "codemirror_mode": {
    "name": "ipython",
    "version": 3
   },
   "file_extension": ".py",
   "mimetype": "text/x-python",
   "name": "python",
   "nbconvert_exporter": "python",
   "pygments_lexer": "ipython3",
   "version": "3.7.7"
  }
 },
 "nbformat": 4,
 "nbformat_minor": 4
}
